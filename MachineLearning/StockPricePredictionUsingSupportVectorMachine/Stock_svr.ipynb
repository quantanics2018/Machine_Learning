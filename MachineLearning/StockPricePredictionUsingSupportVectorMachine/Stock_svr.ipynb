{
  "nbformat": 4,
  "nbformat_minor": 0,
  "metadata": {
    "colab": {
      "provenance": []
    },
    "kernelspec": {
      "name": "python3",
      "display_name": "Python 3"
    },
    "language_info": {
      "name": "python"
    }
  },
  "cells": [
    {
      "cell_type": "code",
      "execution_count": 1,
      "metadata": {
        "id": "r3FxIlIzvprS"
      },
      "outputs": [],
      "source": [
        "import pandas as pd\n",
        "import numpy as np\n",
        "from sklearn.svm import SVR\n",
        "import matplotlib.pyplot as plt\n",
        "plt.style.use('fivethirtyeight')\n",
        "import csv"
      ]
    },
    {
      "cell_type": "markdown",
      "source": [
        "#Load the Data"
      ],
      "metadata": {
        "id": "AyPBQUJVb9_U"
      }
    },
    {
      "cell_type": "code",
      "source": [
        "df=pd.read_csv('/content/RELIANCE.NS.csv')"
      ],
      "metadata": {
        "id": "M6bFD_NjweeP"
      },
      "execution_count": 2,
      "outputs": []
    },
    {
      "cell_type": "code",
      "source": [
        "df.shape"
      ],
      "metadata": {
        "colab": {
          "base_uri": "https://localhost:8080/"
        },
        "id": "rihyBOViwiAd",
        "outputId": "42c3de8d-4390-4be5-cb3e-4c59b2a45972"
      },
      "execution_count": 3,
      "outputs": [
        {
          "output_type": "execute_result",
          "data": {
            "text/plain": [
              "(63, 7)"
            ]
          },
          "metadata": {},
          "execution_count": 3
        }
      ]
    },
    {
      "cell_type": "markdown",
      "source": [
        "** Get and print the last row of data**"
      ],
      "metadata": {
        "id": "2wi2X04UwoJ_"
      }
    },
    {
      "cell_type": "code",
      "source": [
        "Actual_price=df.tail(1)\n",
        "Actual_price"
      ],
      "metadata": {
        "colab": {
          "base_uri": "https://localhost:8080/",
          "height": 89
        },
        "id": "TrJE4TT-wkhk",
        "outputId": "7a522921-ab45-4e22-f43f-1b03e1be5253"
      },
      "execution_count": 4,
      "outputs": [
        {
          "output_type": "execute_result",
          "data": {
            "text/plain": [
              "          Date     Open         High          Low        Close    Adj Close  \\\n",
              "62  2023-08-18  2531.25  2577.600098  2508.550049  2556.800049  2547.800049   \n",
              "\n",
              "     Volume  \n",
              "62  9319989  "
            ],
            "text/html": [
              "\n",
              "  <div id=\"df-a5077a10-6c33-4f74-8cfb-e4a29eb8557b\" class=\"colab-df-container\">\n",
              "    <div>\n",
              "<style scoped>\n",
              "    .dataframe tbody tr th:only-of-type {\n",
              "        vertical-align: middle;\n",
              "    }\n",
              "\n",
              "    .dataframe tbody tr th {\n",
              "        vertical-align: top;\n",
              "    }\n",
              "\n",
              "    .dataframe thead th {\n",
              "        text-align: right;\n",
              "    }\n",
              "</style>\n",
              "<table border=\"1\" class=\"dataframe\">\n",
              "  <thead>\n",
              "    <tr style=\"text-align: right;\">\n",
              "      <th></th>\n",
              "      <th>Date</th>\n",
              "      <th>Open</th>\n",
              "      <th>High</th>\n",
              "      <th>Low</th>\n",
              "      <th>Close</th>\n",
              "      <th>Adj Close</th>\n",
              "      <th>Volume</th>\n",
              "    </tr>\n",
              "  </thead>\n",
              "  <tbody>\n",
              "    <tr>\n",
              "      <th>62</th>\n",
              "      <td>2023-08-18</td>\n",
              "      <td>2531.25</td>\n",
              "      <td>2577.600098</td>\n",
              "      <td>2508.550049</td>\n",
              "      <td>2556.800049</td>\n",
              "      <td>2547.800049</td>\n",
              "      <td>9319989</td>\n",
              "    </tr>\n",
              "  </tbody>\n",
              "</table>\n",
              "</div>\n",
              "    <div class=\"colab-df-buttons\">\n",
              "\n",
              "  <div class=\"colab-df-container\">\n",
              "    <button class=\"colab-df-convert\" onclick=\"convertToInteractive('df-a5077a10-6c33-4f74-8cfb-e4a29eb8557b')\"\n",
              "            title=\"Convert this dataframe to an interactive table.\"\n",
              "            style=\"display:none;\">\n",
              "\n",
              "  <svg xmlns=\"http://www.w3.org/2000/svg\" height=\"24px\" viewBox=\"0 -960 960 960\">\n",
              "    <path d=\"M120-120v-720h720v720H120Zm60-500h600v-160H180v160Zm220 220h160v-160H400v160Zm0 220h160v-160H400v160ZM180-400h160v-160H180v160Zm440 0h160v-160H620v160ZM180-180h160v-160H180v160Zm440 0h160v-160H620v160Z\"/>\n",
              "  </svg>\n",
              "    </button>\n",
              "\n",
              "  <style>\n",
              "    .colab-df-container {\n",
              "      display:flex;\n",
              "      gap: 12px;\n",
              "    }\n",
              "\n",
              "    .colab-df-convert {\n",
              "      background-color: #E8F0FE;\n",
              "      border: none;\n",
              "      border-radius: 50%;\n",
              "      cursor: pointer;\n",
              "      display: none;\n",
              "      fill: #1967D2;\n",
              "      height: 32px;\n",
              "      padding: 0 0 0 0;\n",
              "      width: 32px;\n",
              "    }\n",
              "\n",
              "    .colab-df-convert:hover {\n",
              "      background-color: #E2EBFA;\n",
              "      box-shadow: 0px 1px 2px rgba(60, 64, 67, 0.3), 0px 1px 3px 1px rgba(60, 64, 67, 0.15);\n",
              "      fill: #174EA6;\n",
              "    }\n",
              "\n",
              "    .colab-df-buttons div {\n",
              "      margin-bottom: 4px;\n",
              "    }\n",
              "\n",
              "    [theme=dark] .colab-df-convert {\n",
              "      background-color: #3B4455;\n",
              "      fill: #D2E3FC;\n",
              "    }\n",
              "\n",
              "    [theme=dark] .colab-df-convert:hover {\n",
              "      background-color: #434B5C;\n",
              "      box-shadow: 0px 1px 3px 1px rgba(0, 0, 0, 0.15);\n",
              "      filter: drop-shadow(0px 1px 2px rgba(0, 0, 0, 0.3));\n",
              "      fill: #FFFFFF;\n",
              "    }\n",
              "  </style>\n",
              "\n",
              "    <script>\n",
              "      const buttonEl =\n",
              "        document.querySelector('#df-a5077a10-6c33-4f74-8cfb-e4a29eb8557b button.colab-df-convert');\n",
              "      buttonEl.style.display =\n",
              "        google.colab.kernel.accessAllowed ? 'block' : 'none';\n",
              "\n",
              "      async function convertToInteractive(key) {\n",
              "        const element = document.querySelector('#df-a5077a10-6c33-4f74-8cfb-e4a29eb8557b');\n",
              "        const dataTable =\n",
              "          await google.colab.kernel.invokeFunction('convertToInteractive',\n",
              "                                                    [key], {});\n",
              "        if (!dataTable) return;\n",
              "\n",
              "        const docLinkHtml = 'Like what you see? Visit the ' +\n",
              "          '<a target=\"_blank\" href=https://colab.research.google.com/notebooks/data_table.ipynb>data table notebook</a>'\n",
              "          + ' to learn more about interactive tables.';\n",
              "        element.innerHTML = '';\n",
              "        dataTable['output_type'] = 'display_data';\n",
              "        await google.colab.output.renderOutput(dataTable, element);\n",
              "        const docLink = document.createElement('div');\n",
              "        docLink.innerHTML = docLinkHtml;\n",
              "        element.appendChild(docLink);\n",
              "      }\n",
              "    </script>\n",
              "  </div>\n",
              "\n",
              "\n",
              "<div id=\"df-b5cfd444-2e37-427f-8319-315dac3ad5c7\">\n",
              "  <button class=\"colab-df-quickchart\" onclick=\"quickchart('df-b5cfd444-2e37-427f-8319-315dac3ad5c7')\"\n",
              "            title=\"Suggest charts.\"\n",
              "            style=\"display:none;\">\n",
              "\n",
              "<svg xmlns=\"http://www.w3.org/2000/svg\" height=\"24px\"viewBox=\"0 0 24 24\"\n",
              "     width=\"24px\">\n",
              "    <g>\n",
              "        <path d=\"M19 3H5c-1.1 0-2 .9-2 2v14c0 1.1.9 2 2 2h14c1.1 0 2-.9 2-2V5c0-1.1-.9-2-2-2zM9 17H7v-7h2v7zm4 0h-2V7h2v10zm4 0h-2v-4h2v4z\"/>\n",
              "    </g>\n",
              "</svg>\n",
              "  </button>\n",
              "\n",
              "<style>\n",
              "  .colab-df-quickchart {\n",
              "    background-color: #E8F0FE;\n",
              "    border: none;\n",
              "    border-radius: 50%;\n",
              "    cursor: pointer;\n",
              "    display: none;\n",
              "    fill: #1967D2;\n",
              "    height: 32px;\n",
              "    padding: 0 0 0 0;\n",
              "    width: 32px;\n",
              "  }\n",
              "\n",
              "  .colab-df-quickchart:hover {\n",
              "    background-color: #E2EBFA;\n",
              "    box-shadow: 0px 1px 2px rgba(60, 64, 67, 0.3), 0px 1px 3px 1px rgba(60, 64, 67, 0.15);\n",
              "    fill: #174EA6;\n",
              "  }\n",
              "\n",
              "  [theme=dark] .colab-df-quickchart {\n",
              "    background-color: #3B4455;\n",
              "    fill: #D2E3FC;\n",
              "  }\n",
              "\n",
              "  [theme=dark] .colab-df-quickchart:hover {\n",
              "    background-color: #434B5C;\n",
              "    box-shadow: 0px 1px 3px 1px rgba(0, 0, 0, 0.15);\n",
              "    filter: drop-shadow(0px 1px 2px rgba(0, 0, 0, 0.3));\n",
              "    fill: #FFFFFF;\n",
              "  }\n",
              "</style>\n",
              "\n",
              "  <script>\n",
              "    async function quickchart(key) {\n",
              "      const charts = await google.colab.kernel.invokeFunction(\n",
              "          'suggestCharts', [key], {});\n",
              "    }\n",
              "    (() => {\n",
              "      let quickchartButtonEl =\n",
              "        document.querySelector('#df-b5cfd444-2e37-427f-8319-315dac3ad5c7 button');\n",
              "      quickchartButtonEl.style.display =\n",
              "        google.colab.kernel.accessAllowed ? 'block' : 'none';\n",
              "    })();\n",
              "  </script>\n",
              "</div>\n",
              "    </div>\n",
              "  </div>\n"
            ]
          },
          "metadata": {},
          "execution_count": 4
        }
      ]
    },
    {
      "cell_type": "markdown",
      "source": [
        "#Prepare the data for training the SVR models"
      ],
      "metadata": {
        "id": "JLTbYUBIw2VU"
      }
    },
    {
      "cell_type": "code",
      "source": [
        "#get all the the row except last row\n",
        "df_new=df.head(len(df)-1)\n",
        "df_new"
      ],
      "metadata": {
        "colab": {
          "base_uri": "https://localhost:8080/",
          "height": 423
        },
        "id": "_x6_rhogwyGP",
        "outputId": "5c6e8710-4bbd-4f75-b53c-509c704e736e"
      },
      "execution_count": 5,
      "outputs": [
        {
          "output_type": "execute_result",
          "data": {
            "text/plain": [
              "          Date         Open         High          Low        Close  \\\n",
              "0   2023-05-22  2435.000000  2466.000000  2432.350098  2455.000000   \n",
              "1   2023-05-23  2460.649902  2468.000000  2451.449951  2454.550049   \n",
              "2   2023-05-24  2445.899902  2464.000000  2433.449951  2440.250000   \n",
              "3   2023-05-25  2433.899902  2449.000000  2416.050049  2439.949951   \n",
              "4   2023-05-26  2458.000000  2509.000000  2450.750000  2506.500000   \n",
              "..         ...          ...          ...          ...          ...   \n",
              "57  2023-08-10  2524.949951  2550.000000  2508.449951  2536.449951   \n",
              "58  2023-08-11  2532.449951  2558.850098  2512.350098  2547.149902   \n",
              "59  2023-08-14  2539.000000  2582.300049  2525.000000  2577.250000   \n",
              "60  2023-08-16  2551.000000  2582.800049  2551.000000  2575.149902   \n",
              "61  2023-08-17  2567.100098  2578.100098  2532.850098  2538.000000   \n",
              "\n",
              "      Adj Close    Volume  \n",
              "0   2446.358398   3431208  \n",
              "1   2445.909912   2811473  \n",
              "2   2431.660400   3743804  \n",
              "3   2431.361328   5301647  \n",
              "4   2497.677002   5827017  \n",
              "..          ...       ...  \n",
              "57  2527.521729   7735299  \n",
              "58  2538.183838  11089665  \n",
              "59  2568.177979   4787906  \n",
              "60  2566.085449   5101556  \n",
              "61  2529.066162   6836872  \n",
              "\n",
              "[62 rows x 7 columns]"
            ],
            "text/html": [
              "\n",
              "  <div id=\"df-fb28029e-9793-4122-bea3-64bc1a25ef81\" class=\"colab-df-container\">\n",
              "    <div>\n",
              "<style scoped>\n",
              "    .dataframe tbody tr th:only-of-type {\n",
              "        vertical-align: middle;\n",
              "    }\n",
              "\n",
              "    .dataframe tbody tr th {\n",
              "        vertical-align: top;\n",
              "    }\n",
              "\n",
              "    .dataframe thead th {\n",
              "        text-align: right;\n",
              "    }\n",
              "</style>\n",
              "<table border=\"1\" class=\"dataframe\">\n",
              "  <thead>\n",
              "    <tr style=\"text-align: right;\">\n",
              "      <th></th>\n",
              "      <th>Date</th>\n",
              "      <th>Open</th>\n",
              "      <th>High</th>\n",
              "      <th>Low</th>\n",
              "      <th>Close</th>\n",
              "      <th>Adj Close</th>\n",
              "      <th>Volume</th>\n",
              "    </tr>\n",
              "  </thead>\n",
              "  <tbody>\n",
              "    <tr>\n",
              "      <th>0</th>\n",
              "      <td>2023-05-22</td>\n",
              "      <td>2435.000000</td>\n",
              "      <td>2466.000000</td>\n",
              "      <td>2432.350098</td>\n",
              "      <td>2455.000000</td>\n",
              "      <td>2446.358398</td>\n",
              "      <td>3431208</td>\n",
              "    </tr>\n",
              "    <tr>\n",
              "      <th>1</th>\n",
              "      <td>2023-05-23</td>\n",
              "      <td>2460.649902</td>\n",
              "      <td>2468.000000</td>\n",
              "      <td>2451.449951</td>\n",
              "      <td>2454.550049</td>\n",
              "      <td>2445.909912</td>\n",
              "      <td>2811473</td>\n",
              "    </tr>\n",
              "    <tr>\n",
              "      <th>2</th>\n",
              "      <td>2023-05-24</td>\n",
              "      <td>2445.899902</td>\n",
              "      <td>2464.000000</td>\n",
              "      <td>2433.449951</td>\n",
              "      <td>2440.250000</td>\n",
              "      <td>2431.660400</td>\n",
              "      <td>3743804</td>\n",
              "    </tr>\n",
              "    <tr>\n",
              "      <th>3</th>\n",
              "      <td>2023-05-25</td>\n",
              "      <td>2433.899902</td>\n",
              "      <td>2449.000000</td>\n",
              "      <td>2416.050049</td>\n",
              "      <td>2439.949951</td>\n",
              "      <td>2431.361328</td>\n",
              "      <td>5301647</td>\n",
              "    </tr>\n",
              "    <tr>\n",
              "      <th>4</th>\n",
              "      <td>2023-05-26</td>\n",
              "      <td>2458.000000</td>\n",
              "      <td>2509.000000</td>\n",
              "      <td>2450.750000</td>\n",
              "      <td>2506.500000</td>\n",
              "      <td>2497.677002</td>\n",
              "      <td>5827017</td>\n",
              "    </tr>\n",
              "    <tr>\n",
              "      <th>...</th>\n",
              "      <td>...</td>\n",
              "      <td>...</td>\n",
              "      <td>...</td>\n",
              "      <td>...</td>\n",
              "      <td>...</td>\n",
              "      <td>...</td>\n",
              "      <td>...</td>\n",
              "    </tr>\n",
              "    <tr>\n",
              "      <th>57</th>\n",
              "      <td>2023-08-10</td>\n",
              "      <td>2524.949951</td>\n",
              "      <td>2550.000000</td>\n",
              "      <td>2508.449951</td>\n",
              "      <td>2536.449951</td>\n",
              "      <td>2527.521729</td>\n",
              "      <td>7735299</td>\n",
              "    </tr>\n",
              "    <tr>\n",
              "      <th>58</th>\n",
              "      <td>2023-08-11</td>\n",
              "      <td>2532.449951</td>\n",
              "      <td>2558.850098</td>\n",
              "      <td>2512.350098</td>\n",
              "      <td>2547.149902</td>\n",
              "      <td>2538.183838</td>\n",
              "      <td>11089665</td>\n",
              "    </tr>\n",
              "    <tr>\n",
              "      <th>59</th>\n",
              "      <td>2023-08-14</td>\n",
              "      <td>2539.000000</td>\n",
              "      <td>2582.300049</td>\n",
              "      <td>2525.000000</td>\n",
              "      <td>2577.250000</td>\n",
              "      <td>2568.177979</td>\n",
              "      <td>4787906</td>\n",
              "    </tr>\n",
              "    <tr>\n",
              "      <th>60</th>\n",
              "      <td>2023-08-16</td>\n",
              "      <td>2551.000000</td>\n",
              "      <td>2582.800049</td>\n",
              "      <td>2551.000000</td>\n",
              "      <td>2575.149902</td>\n",
              "      <td>2566.085449</td>\n",
              "      <td>5101556</td>\n",
              "    </tr>\n",
              "    <tr>\n",
              "      <th>61</th>\n",
              "      <td>2023-08-17</td>\n",
              "      <td>2567.100098</td>\n",
              "      <td>2578.100098</td>\n",
              "      <td>2532.850098</td>\n",
              "      <td>2538.000000</td>\n",
              "      <td>2529.066162</td>\n",
              "      <td>6836872</td>\n",
              "    </tr>\n",
              "  </tbody>\n",
              "</table>\n",
              "<p>62 rows × 7 columns</p>\n",
              "</div>\n",
              "    <div class=\"colab-df-buttons\">\n",
              "\n",
              "  <div class=\"colab-df-container\">\n",
              "    <button class=\"colab-df-convert\" onclick=\"convertToInteractive('df-fb28029e-9793-4122-bea3-64bc1a25ef81')\"\n",
              "            title=\"Convert this dataframe to an interactive table.\"\n",
              "            style=\"display:none;\">\n",
              "\n",
              "  <svg xmlns=\"http://www.w3.org/2000/svg\" height=\"24px\" viewBox=\"0 -960 960 960\">\n",
              "    <path d=\"M120-120v-720h720v720H120Zm60-500h600v-160H180v160Zm220 220h160v-160H400v160Zm0 220h160v-160H400v160ZM180-400h160v-160H180v160Zm440 0h160v-160H620v160ZM180-180h160v-160H180v160Zm440 0h160v-160H620v160Z\"/>\n",
              "  </svg>\n",
              "    </button>\n",
              "\n",
              "  <style>\n",
              "    .colab-df-container {\n",
              "      display:flex;\n",
              "      gap: 12px;\n",
              "    }\n",
              "\n",
              "    .colab-df-convert {\n",
              "      background-color: #E8F0FE;\n",
              "      border: none;\n",
              "      border-radius: 50%;\n",
              "      cursor: pointer;\n",
              "      display: none;\n",
              "      fill: #1967D2;\n",
              "      height: 32px;\n",
              "      padding: 0 0 0 0;\n",
              "      width: 32px;\n",
              "    }\n",
              "\n",
              "    .colab-df-convert:hover {\n",
              "      background-color: #E2EBFA;\n",
              "      box-shadow: 0px 1px 2px rgba(60, 64, 67, 0.3), 0px 1px 3px 1px rgba(60, 64, 67, 0.15);\n",
              "      fill: #174EA6;\n",
              "    }\n",
              "\n",
              "    .colab-df-buttons div {\n",
              "      margin-bottom: 4px;\n",
              "    }\n",
              "\n",
              "    [theme=dark] .colab-df-convert {\n",
              "      background-color: #3B4455;\n",
              "      fill: #D2E3FC;\n",
              "    }\n",
              "\n",
              "    [theme=dark] .colab-df-convert:hover {\n",
              "      background-color: #434B5C;\n",
              "      box-shadow: 0px 1px 3px 1px rgba(0, 0, 0, 0.15);\n",
              "      filter: drop-shadow(0px 1px 2px rgba(0, 0, 0, 0.3));\n",
              "      fill: #FFFFFF;\n",
              "    }\n",
              "  </style>\n",
              "\n",
              "    <script>\n",
              "      const buttonEl =\n",
              "        document.querySelector('#df-fb28029e-9793-4122-bea3-64bc1a25ef81 button.colab-df-convert');\n",
              "      buttonEl.style.display =\n",
              "        google.colab.kernel.accessAllowed ? 'block' : 'none';\n",
              "\n",
              "      async function convertToInteractive(key) {\n",
              "        const element = document.querySelector('#df-fb28029e-9793-4122-bea3-64bc1a25ef81');\n",
              "        const dataTable =\n",
              "          await google.colab.kernel.invokeFunction('convertToInteractive',\n",
              "                                                    [key], {});\n",
              "        if (!dataTable) return;\n",
              "\n",
              "        const docLinkHtml = 'Like what you see? Visit the ' +\n",
              "          '<a target=\"_blank\" href=https://colab.research.google.com/notebooks/data_table.ipynb>data table notebook</a>'\n",
              "          + ' to learn more about interactive tables.';\n",
              "        element.innerHTML = '';\n",
              "        dataTable['output_type'] = 'display_data';\n",
              "        await google.colab.output.renderOutput(dataTable, element);\n",
              "        const docLink = document.createElement('div');\n",
              "        docLink.innerHTML = docLinkHtml;\n",
              "        element.appendChild(docLink);\n",
              "      }\n",
              "    </script>\n",
              "  </div>\n",
              "\n",
              "\n",
              "<div id=\"df-06f1a295-9abd-4563-bb4a-fad78a34c3b1\">\n",
              "  <button class=\"colab-df-quickchart\" onclick=\"quickchart('df-06f1a295-9abd-4563-bb4a-fad78a34c3b1')\"\n",
              "            title=\"Suggest charts.\"\n",
              "            style=\"display:none;\">\n",
              "\n",
              "<svg xmlns=\"http://www.w3.org/2000/svg\" height=\"24px\"viewBox=\"0 0 24 24\"\n",
              "     width=\"24px\">\n",
              "    <g>\n",
              "        <path d=\"M19 3H5c-1.1 0-2 .9-2 2v14c0 1.1.9 2 2 2h14c1.1 0 2-.9 2-2V5c0-1.1-.9-2-2-2zM9 17H7v-7h2v7zm4 0h-2V7h2v10zm4 0h-2v-4h2v4z\"/>\n",
              "    </g>\n",
              "</svg>\n",
              "  </button>\n",
              "\n",
              "<style>\n",
              "  .colab-df-quickchart {\n",
              "    background-color: #E8F0FE;\n",
              "    border: none;\n",
              "    border-radius: 50%;\n",
              "    cursor: pointer;\n",
              "    display: none;\n",
              "    fill: #1967D2;\n",
              "    height: 32px;\n",
              "    padding: 0 0 0 0;\n",
              "    width: 32px;\n",
              "  }\n",
              "\n",
              "  .colab-df-quickchart:hover {\n",
              "    background-color: #E2EBFA;\n",
              "    box-shadow: 0px 1px 2px rgba(60, 64, 67, 0.3), 0px 1px 3px 1px rgba(60, 64, 67, 0.15);\n",
              "    fill: #174EA6;\n",
              "  }\n",
              "\n",
              "  [theme=dark] .colab-df-quickchart {\n",
              "    background-color: #3B4455;\n",
              "    fill: #D2E3FC;\n",
              "  }\n",
              "\n",
              "  [theme=dark] .colab-df-quickchart:hover {\n",
              "    background-color: #434B5C;\n",
              "    box-shadow: 0px 1px 3px 1px rgba(0, 0, 0, 0.15);\n",
              "    filter: drop-shadow(0px 1px 2px rgba(0, 0, 0, 0.3));\n",
              "    fill: #FFFFFF;\n",
              "  }\n",
              "</style>\n",
              "\n",
              "  <script>\n",
              "    async function quickchart(key) {\n",
              "      const charts = await google.colab.kernel.invokeFunction(\n",
              "          'suggestCharts', [key], {});\n",
              "    }\n",
              "    (() => {\n",
              "      let quickchartButtonEl =\n",
              "        document.querySelector('#df-06f1a295-9abd-4563-bb4a-fad78a34c3b1 button');\n",
              "      quickchartButtonEl.style.display =\n",
              "        google.colab.kernel.accessAllowed ? 'block' : 'none';\n",
              "    })();\n",
              "  </script>\n",
              "</div>\n",
              "    </div>\n",
              "  </div>\n"
            ]
          },
          "metadata": {},
          "execution_count": 5
        }
      ]
    },
    {
      "cell_type": "markdown",
      "source": [
        "Create empty lists to store the independent and dependent data"
      ],
      "metadata": {
        "id": "sjgVsA0NxMbA"
      }
    },
    {
      "cell_type": "code",
      "source": [
        "days=[]\n",
        "adj_close_price=[]"
      ],
      "metadata": {
        "id": "N5BYX_bAxI5f"
      },
      "execution_count": 6,
      "outputs": []
    },
    {
      "cell_type": "code",
      "source": [
        "#Get the dates and Adj_close price\n",
        "df_days=df_new['Date']\n",
        "df_adjcls=df_new['Adj Close']"
      ],
      "metadata": {
        "id": "naD3IMx7xRJf"
      },
      "execution_count": 7,
      "outputs": []
    },
    {
      "cell_type": "code",
      "source": [
        "df_days"
      ],
      "metadata": {
        "colab": {
          "base_uri": "https://localhost:8080/"
        },
        "id": "nVke5sMOyqQD",
        "outputId": "c2f6cb01-1aae-44ad-ed1c-fe665c4026e2"
      },
      "execution_count": 8,
      "outputs": [
        {
          "output_type": "execute_result",
          "data": {
            "text/plain": [
              "0     2023-05-22\n",
              "1     2023-05-23\n",
              "2     2023-05-24\n",
              "3     2023-05-25\n",
              "4     2023-05-26\n",
              "         ...    \n",
              "57    2023-08-10\n",
              "58    2023-08-11\n",
              "59    2023-08-14\n",
              "60    2023-08-16\n",
              "61    2023-08-17\n",
              "Name: Date, Length: 62, dtype: object"
            ]
          },
          "metadata": {},
          "execution_count": 8
        }
      ]
    },
    {
      "cell_type": "code",
      "source": [
        "##create an independent dataset\n",
        "\n",
        "for day in df_days:\n",
        "  days.append([int(day.split('-')[2])])\n",
        "\n",
        "#create a dependent dataset\n",
        "for df_adj in df_adjcls:\n",
        "  adj_close_price.append(float(df_adj))"
      ],
      "metadata": {
        "id": "MkpImg-kxmxL"
      },
      "execution_count": 9,
      "outputs": []
    },
    {
      "cell_type": "code",
      "source": [
        "days[29]"
      ],
      "metadata": {
        "colab": {
          "base_uri": "https://localhost:8080/"
        },
        "id": "h0uQliUR2T4e",
        "outputId": "b2e76a17-c054-4694-bb99-7f190d7752b9"
      },
      "execution_count": 10,
      "outputs": [
        {
          "output_type": "execute_result",
          "data": {
            "text/plain": [
              "[3]"
            ]
          },
          "metadata": {},
          "execution_count": 10
        }
      ]
    },
    {
      "cell_type": "code",
      "source": [
        "days=days[8:29]\n",
        "adj_close_price=adj_close_price[8:29]"
      ],
      "metadata": {
        "id": "94ztlDcR2Ikc"
      },
      "execution_count": 11,
      "outputs": []
    },
    {
      "cell_type": "code",
      "source": [
        "print(days)\n",
        "print(adj_close_price)"
      ],
      "metadata": {
        "colab": {
          "base_uri": "https://localhost:8080/"
        },
        "id": "-TqVFWLAzYli",
        "outputId": "2dca6e55-05dd-4fb0-8767-4f126f84be4a"
      },
      "execution_count": 12,
      "outputs": [
        {
          "output_type": "stream",
          "name": "stdout",
          "text": [
            "[[1], [2], [5], [6], [7], [8], [9], [12], [13], [14], [15], [16], [19], [20], [21], [22], [23], [26], [27], [28], [30]]\n",
            "[2454.579346, 2446.557617, 2468.530029, 2470.622803, 2489.356445, 2490.851074, 2473.213379, 2475.405762, 2511.976563, 2542.867676, 2543.564941, 2568.327393, 2542.817627, 2548.099121, 2555.273682, 2526.574951, 2505.897949, 2486.765625, 2487.662354, 2487.662354, 2541.273193]\n"
          ]
        }
      ]
    },
    {
      "cell_type": "code",
      "source": [
        "len(days)\n"
      ],
      "metadata": {
        "colab": {
          "base_uri": "https://localhost:8080/"
        },
        "id": "QJnSpJCj325g",
        "outputId": "2ebb79ef-25b3-4a32-b654-2eb18e6e55a0"
      },
      "execution_count": 13,
      "outputs": [
        {
          "output_type": "execute_result",
          "data": {
            "text/plain": [
              "21"
            ]
          },
          "metadata": {},
          "execution_count": 13
        }
      ]
    },
    {
      "cell_type": "markdown",
      "source": [
        "** Get and print the last row of data**"
      ],
      "metadata": {
        "id": "IA2ciD8i2kdu"
      }
    },
    {
      "cell_type": "code",
      "source": [
        "new_day=days[:-1]\n",
        "new_price=adj_close_price[:-1]"
      ],
      "metadata": {
        "id": "kM7RJNAB2sWv"
      },
      "execution_count": 14,
      "outputs": []
    },
    {
      "cell_type": "code",
      "source": [
        "actual_price=adj_close_price[-1]"
      ],
      "metadata": {
        "id": "ISNXBFJm3MdN"
      },
      "execution_count": 15,
      "outputs": []
    },
    {
      "cell_type": "code",
      "source": [
        "actual_price\n"
      ],
      "metadata": {
        "colab": {
          "base_uri": "https://localhost:8080/"
        },
        "id": "FYcQIZ433bPi",
        "outputId": "7f776379-444f-4f1c-dda8-32a08685aeb6"
      },
      "execution_count": 16,
      "outputs": [
        {
          "output_type": "execute_result",
          "data": {
            "text/plain": [
              "2541.273193"
            ]
          },
          "metadata": {},
          "execution_count": 16
        }
      ]
    },
    {
      "cell_type": "code",
      "source": [
        "print(new_day)\n",
        "print(new_price)"
      ],
      "metadata": {
        "colab": {
          "base_uri": "https://localhost:8080/"
        },
        "id": "YPnNxAMF24Vz",
        "outputId": "2be8f7a3-076d-461e-fbf4-78b87e7e6d96"
      },
      "execution_count": 17,
      "outputs": [
        {
          "output_type": "stream",
          "name": "stdout",
          "text": [
            "[[1], [2], [5], [6], [7], [8], [9], [12], [13], [14], [15], [16], [19], [20], [21], [22], [23], [26], [27], [28]]\n",
            "[2454.579346, 2446.557617, 2468.530029, 2470.622803, 2489.356445, 2490.851074, 2473.213379, 2475.405762, 2511.976563, 2542.867676, 2543.564941, 2568.327393, 2542.817627, 2548.099121, 2555.273682, 2526.574951, 2505.897949, 2486.765625, 2487.662354, 2487.662354]\n"
          ]
        }
      ]
    },
    {
      "cell_type": "code",
      "source": [],
      "metadata": {
        "id": "lei4nkoh2hGM"
      },
      "execution_count": null,
      "outputs": []
    },
    {
      "cell_type": "code",
      "source": [
        "#Create three support vector regression\n",
        "\n",
        "#1) create and train a SVR model using linear Kernel\n",
        "svr_lin = SVR(kernel = 'linear', C = 1e3, gamma = 'auto')\n",
        "svr_lin.fit(new_day,new_price)\n",
        "#2) create and train a SVR model using polynomial Kernel\n",
        "svr_poly = SVR(kernel = 'poly', C = 1e3, degree = 2, gamma = 'auto')\n",
        "svr_poly.fit(new_day,new_price)\n",
        "#3) create and train a SVR model using rbf Kernel\n",
        "svr_rbf = SVR(kernel = 'rbf', C = 1e3, gamma = 0.1)\n",
        "svr_rbf.fit(new_day,new_price)"
      ],
      "metadata": {
        "colab": {
          "base_uri": "https://localhost:8080/",
          "height": 74
        },
        "id": "EBbR8MljyYwU",
        "outputId": "175d78a0-e4ed-4457-a201-7a8b668f8398"
      },
      "execution_count": 18,
      "outputs": [
        {
          "output_type": "execute_result",
          "data": {
            "text/plain": [
              "SVR(C=1000.0, gamma=0.1)"
            ],
            "text/html": [
              "<style>#sk-container-id-1 {color: black;background-color: white;}#sk-container-id-1 pre{padding: 0;}#sk-container-id-1 div.sk-toggleable {background-color: white;}#sk-container-id-1 label.sk-toggleable__label {cursor: pointer;display: block;width: 100%;margin-bottom: 0;padding: 0.3em;box-sizing: border-box;text-align: center;}#sk-container-id-1 label.sk-toggleable__label-arrow:before {content: \"▸\";float: left;margin-right: 0.25em;color: #696969;}#sk-container-id-1 label.sk-toggleable__label-arrow:hover:before {color: black;}#sk-container-id-1 div.sk-estimator:hover label.sk-toggleable__label-arrow:before {color: black;}#sk-container-id-1 div.sk-toggleable__content {max-height: 0;max-width: 0;overflow: hidden;text-align: left;background-color: #f0f8ff;}#sk-container-id-1 div.sk-toggleable__content pre {margin: 0.2em;color: black;border-radius: 0.25em;background-color: #f0f8ff;}#sk-container-id-1 input.sk-toggleable__control:checked~div.sk-toggleable__content {max-height: 200px;max-width: 100%;overflow: auto;}#sk-container-id-1 input.sk-toggleable__control:checked~label.sk-toggleable__label-arrow:before {content: \"▾\";}#sk-container-id-1 div.sk-estimator input.sk-toggleable__control:checked~label.sk-toggleable__label {background-color: #d4ebff;}#sk-container-id-1 div.sk-label input.sk-toggleable__control:checked~label.sk-toggleable__label {background-color: #d4ebff;}#sk-container-id-1 input.sk-hidden--visually {border: 0;clip: rect(1px 1px 1px 1px);clip: rect(1px, 1px, 1px, 1px);height: 1px;margin: -1px;overflow: hidden;padding: 0;position: absolute;width: 1px;}#sk-container-id-1 div.sk-estimator {font-family: monospace;background-color: #f0f8ff;border: 1px dotted black;border-radius: 0.25em;box-sizing: border-box;margin-bottom: 0.5em;}#sk-container-id-1 div.sk-estimator:hover {background-color: #d4ebff;}#sk-container-id-1 div.sk-parallel-item::after {content: \"\";width: 100%;border-bottom: 1px solid gray;flex-grow: 1;}#sk-container-id-1 div.sk-label:hover label.sk-toggleable__label {background-color: #d4ebff;}#sk-container-id-1 div.sk-serial::before {content: \"\";position: absolute;border-left: 1px solid gray;box-sizing: border-box;top: 0;bottom: 0;left: 50%;z-index: 0;}#sk-container-id-1 div.sk-serial {display: flex;flex-direction: column;align-items: center;background-color: white;padding-right: 0.2em;padding-left: 0.2em;position: relative;}#sk-container-id-1 div.sk-item {position: relative;z-index: 1;}#sk-container-id-1 div.sk-parallel {display: flex;align-items: stretch;justify-content: center;background-color: white;position: relative;}#sk-container-id-1 div.sk-item::before, #sk-container-id-1 div.sk-parallel-item::before {content: \"\";position: absolute;border-left: 1px solid gray;box-sizing: border-box;top: 0;bottom: 0;left: 50%;z-index: -1;}#sk-container-id-1 div.sk-parallel-item {display: flex;flex-direction: column;z-index: 1;position: relative;background-color: white;}#sk-container-id-1 div.sk-parallel-item:first-child::after {align-self: flex-end;width: 50%;}#sk-container-id-1 div.sk-parallel-item:last-child::after {align-self: flex-start;width: 50%;}#sk-container-id-1 div.sk-parallel-item:only-child::after {width: 0;}#sk-container-id-1 div.sk-dashed-wrapped {border: 1px dashed gray;margin: 0 0.4em 0.5em 0.4em;box-sizing: border-box;padding-bottom: 0.4em;background-color: white;}#sk-container-id-1 div.sk-label label {font-family: monospace;font-weight: bold;display: inline-block;line-height: 1.2em;}#sk-container-id-1 div.sk-label-container {text-align: center;}#sk-container-id-1 div.sk-container {/* jupyter's `normalize.less` sets `[hidden] { display: none; }` but bootstrap.min.css set `[hidden] { display: none !important; }` so we also need the `!important` here to be able to override the default hidden behavior on the sphinx rendered scikit-learn.org. See: https://github.com/scikit-learn/scikit-learn/issues/21755 */display: inline-block !important;position: relative;}#sk-container-id-1 div.sk-text-repr-fallback {display: none;}</style><div id=\"sk-container-id-1\" class=\"sk-top-container\"><div class=\"sk-text-repr-fallback\"><pre>SVR(C=1000.0, gamma=0.1)</pre><b>In a Jupyter environment, please rerun this cell to show the HTML representation or trust the notebook. <br />On GitHub, the HTML representation is unable to render, please try loading this page with nbviewer.org.</b></div><div class=\"sk-container\" hidden><div class=\"sk-item\"><div class=\"sk-estimator sk-toggleable\"><input class=\"sk-toggleable__control sk-hidden--visually\" id=\"sk-estimator-id-1\" type=\"checkbox\" checked><label for=\"sk-estimator-id-1\" class=\"sk-toggleable__label sk-toggleable__label-arrow\">SVR</label><div class=\"sk-toggleable__content\"><pre>SVR(C=1000.0, gamma=0.1)</pre></div></div></div></div></div>"
            ]
          },
          "metadata": {},
          "execution_count": 18
        }
      ]
    },
    {
      "cell_type": "markdown",
      "source": [
        "#Plot the models on a graph to see which has the best fit to the original"
      ],
      "metadata": {
        "id": "_VbXpWRo0pAZ"
      }
    },
    {
      "cell_type": "code",
      "source": [
        "plt.figure(figsize=(16,8))\n",
        "plt.scatter(days,adj_close_price,color='red',label='Data')\n",
        "plt.plot(days,svr_lin.predict(days),color='blue',label='Linear model')\n",
        "plt.plot(days,svr_poly.predict(days),color='orange',label='Polynomial model')\n",
        "plt.plot(days,svr_rbf.predict(days),color='green',label='RBF model')"
      ],
      "metadata": {
        "colab": {
          "base_uri": "https://localhost:8080/",
          "height": 450
        },
        "id": "ydUUUlHby_yX",
        "outputId": "87e7f6d9-b00c-48fd-e47e-e4fb5bee73c1"
      },
      "execution_count": 19,
      "outputs": [
        {
          "output_type": "execute_result",
          "data": {
            "text/plain": [
              "[<matplotlib.lines.Line2D at 0x7c17c8905360>]"
            ]
          },
          "metadata": {},
          "execution_count": 19
        },
        {
          "output_type": "display_data",
          "data": {
            "text/plain": [
              "<Figure size 1600x800 with 1 Axes>"
            ],
            "image/png": "[encoded data removed]"
          },
          "metadata": {}
        }
      ]
    },
    {
      "cell_type": "markdown",
      "source": [
        "#Show the predicted price for the given day"
      ],
      "metadata": {
        "id": "iWkRXDoa4HI0"
      }
    },
    {
      "cell_type": "code",
      "source": [
        "day_30=[[30]]\n",
        "\n",
        "print('RBF SVR predicted value:',svr_rbf.predict(day_30))\n",
        "print('ploy SVR predicted value:',svr_poly.predict(day_30))\n",
        "print('linear SVR predicted value:',svr_lin.predict(day_30))"
      ],
      "metadata": {
        "colab": {
          "base_uri": "https://localhost:8080/"
        },
        "id": "m34GDUnu4IEm",
        "outputId": "d46bba3c-36e3-457b-f450-1549c7b6429c"
      },
      "execution_count": 20,
      "outputs": [
        {
          "output_type": "stream",
          "name": "stdout",
          "text": [
            "RBF SVR predicted value: [2488.11598951]\n",
            "ploy SVR predicted value: [2518.93773674]\n",
            "linear SVR predicted value: [2553.69609076]\n"
          ]
        }
      ]
    },
    {
      "cell_type": "code",
      "source": [
        "# Actaul price of the stock on day 30\n",
        "print(\"Actual price of the stock on day 30 is : \",actual_price)"
      ],
      "metadata": {
        "colab": {
          "base_uri": "https://localhost:8080/"
        },
        "id": "oy6UeAX-4xjh",
        "outputId": "816402af-94eb-490b-d446-f668f065f940"
      },
      "execution_count": 21,
      "outputs": [
        {
          "output_type": "stream",
          "name": "stdout",
          "text": [
            "Actual price of the stock on day 30 is :  2541.273193\n"
          ]
        }
      ]
    },
    {
      "cell_type": "markdown",
      "source": [
        "The RBF (Radial Basis Function) SVR model predicts that the stock price on day 30 will be around 2488.12.\n",
        "The Polynomial SVR model predicts a slightly higher stock price of approximately 2518.94 for day 30.\n",
        "The Linear SVR model predicts the highest stock price of about 2553.70 for the same day.\n",
        "\n",
        "\n",
        "\n",
        "when comparing these predictions to the actual stock price on day 30, which is 2541.27, we can see that all three models had varying degrees of deviation from the actual price. This demonstrates the challenges of predicting stock prices accurately, especially in highly volatile financial markets."
      ],
      "metadata": {
        "id": "I6Sn_S_dlcuf"
      }
    },
    {
      "cell_type": "code",
      "source": [],
      "metadata": {
        "id": "zgr8ngta5GXK"
      },
      "execution_count": null,
      "outputs": []
    }
  ]
}