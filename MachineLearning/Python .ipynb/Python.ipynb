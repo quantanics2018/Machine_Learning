{
  "nbformat": 4,
  "nbformat_minor": 0,
  "metadata": {
    "colab": {
      "provenance": []
    },
    "kernelspec": {
      "name": "python3",
      "display_name": "Python 3"
    },
    "language_info": {
      "name": "python"
    }
  },
  "cells": [
    {
      "cell_type": "markdown",
      "source": [
        "##Python Basics  - Introduction\n",
        "\n",
        "\n",
        "\n",
        "Python is a high-level, interpreted programming language known for its simplicity and readability.\n",
        "\n",
        "It emphasizes clean syntax, making it ideal for beginners and professionals alike.\n",
        "\n",
        "Python's extensive standard library and third-party packages empower developers to efficiently create a wide range of applications, from web development and data analysis to scientific computing and artificial intelligence.\n",
        "\n",
        "Its dynamic typing and automatic memory management enhance productivity, while features like list comprehensions, lambda functions, and object-oriented programming provide powerful tools.\n",
        "\n",
        "Python's versatility, backed by a strong community, makes it a preferred choice for rapid development, scripting, and solving complex problems."
      ],
      "metadata": {
        "id": "qs63H1rGnjZn"
      }
    },
    {
      "cell_type": "markdown",
      "source": [
        "#Python Indentation\n",
        "\n",
        "Indentation in Python is crucial for defining the structure and scope of code blocks. It replaces traditional curly braces in other programming languages.\n",
        "\n",
        "Indentation Significance: Indentation (whitespace at the beginning of lines) is used to group statements within loops, conditionals, functions, and classes.\n",
        "\n",
        "Consistent Spacing: Maintain consistent indentation (typically four spaces) to indicate code hierarchy and avoid errors.\n",
        "\n",
        "Blocks and Statements: Statements with the same level of indentation are part of the same block. Indentation ends with the line before a line with lesser indentation."
      ],
      "metadata": {
        "id": "4pUGUM3cIVMd"
      }
    },
    {
      "cell_type": "code",
      "source": [
        "if 5 > 2:\n",
        "  print(\"Five is greater than two!\")"
      ],
      "metadata": {
        "colab": {
          "base_uri": "https://localhost:8080/"
        },
        "id": "Cvx2qSLdIaGT",
        "outputId": "dd650e3b-e1fa-4006-fdd8-a1142f9c3bd6"
      },
      "execution_count": 2,
      "outputs": [
        {
          "output_type": "stream",
          "name": "stdout",
          "text": [
            "Five is greater than two!\n"
          ]
        }
      ]
    },
    {
      "cell_type": "code",
      "source": [
        "if 5 > 2:\n",
        "print(\"Five is greater than two!\")"
      ],
      "metadata": {
        "colab": {
          "base_uri": "https://localhost:8080/",
          "height": 144
        },
        "id": "_-HuiSdJIgSV",
        "outputId": "e72e45dd-9032-4612-f5ca-80dbd7dd8b92"
      },
      "execution_count": 65,
      "outputs": [
        {
          "output_type": "error",
          "ename": "IndentationError",
          "evalue": "ignored",
          "traceback": [
            "\u001b[0;36m  File \u001b[0;32m\"<ipython-input-65-a314491c53bb>\"\u001b[0;36m, line \u001b[0;32m2\u001b[0m\n\u001b[0;31m    print(\"Five is greater than two!\")\u001b[0m\n\u001b[0m    ^\u001b[0m\n\u001b[0;31mIndentationError\u001b[0m\u001b[0;31m:\u001b[0m expected an indented block after 'if' statement on line 1\n"
          ]
        }
      ]
    },
    {
      "cell_type": "markdown",
      "source": [
        "#Python Variables\n"
      ],
      "metadata": {
        "id": "cwn7uryPGSfs"
      }
    },
    {
      "cell_type": "markdown",
      "source": [
        "In this program, we declare four variables: name, age, is_student, and pi. We assign different types of values to these variables: a string, an integer, a boolean, and a floating-point number. Then, we use the print() function to display the values associated with these variables."
      ],
      "metadata": {
        "id": "-ochCSieHVAV"
      }
    },
    {
      "cell_type": "code",
      "execution_count": 1,
      "metadata": {
        "colab": {
          "base_uri": "https://localhost:8080/"
        },
        "id": "-x2bFgIfGOzV",
        "outputId": "b32c1c42-5e64-4aa1-a631-18f934004d3c"
      },
      "outputs": [
        {
          "output_type": "stream",
          "name": "stdout",
          "text": [
            "Name: John\n",
            "Age: 25\n",
            "Is Student: True\n",
            "Value of Pi: 3.14159\n"
          ]
        }
      ],
      "source": [
        "# Variable declaration\n",
        "\n",
        "name = \"John\"\n",
        "age = 25\n",
        "is_student = True\n",
        "pi = 3.14159\n",
        "\n",
        "# Printing the variables\n",
        "\n",
        "print(\"Name:\", name)\n",
        "print(\"Age:\", age)\n",
        "print(\"Is Student:\", is_student)\n",
        "print(\"Value of Pi:\", pi)\n"
      ]
    },
    {
      "cell_type": "markdown",
      "source": [
        "#Python Comments\n"
      ],
      "metadata": {
        "id": "PFjXfTApJvXJ"
      }
    },
    {
      "cell_type": "code",
      "source": [
        "#Single-line comments: Use the # symbol to indicate a single-line comment.\n",
        "\n",
        "# This is a single-line comment\n",
        "\n",
        "print(\"Hello, World!\")\n"
      ],
      "metadata": {
        "colab": {
          "base_uri": "https://localhost:8080/"
        },
        "id": "98OyAYUzJxpT",
        "outputId": "18be1ee8-fdcc-4e4a-e9f1-fbccfdb3a156"
      },
      "execution_count": 4,
      "outputs": [
        {
          "output_type": "stream",
          "name": "stdout",
          "text": [
            "Hello, World!\n"
          ]
        }
      ]
    },
    {
      "cell_type": "code",
      "source": [
        "#Multi-line comments: You can use triple-quotes (''' or \"\"\") to create multi-line comments.\n",
        "\n",
        "\"\"\"\n",
        "This is a\n",
        "multi-line comment\n",
        "\"\"\"\n",
        "print(\"Hello, Python!\")\n"
      ],
      "metadata": {
        "colab": {
          "base_uri": "https://localhost:8080/"
        },
        "id": "ZRzYjOopKFyj",
        "outputId": "885c3ba9-7b30-4767-a249-3e9759a43bdc"
      },
      "execution_count": 5,
      "outputs": [
        {
          "output_type": "stream",
          "name": "stdout",
          "text": [
            "Hello, Python!\n"
          ]
        }
      ]
    },
    {
      "cell_type": "code",
      "source": [
        "#Commenting for Explanation\n",
        "\n",
        "# Calculate the area of a rectangle\n",
        "\n",
        "length = 10\n",
        "width = 5\n",
        "area = length * width  # Formula for area\n",
        "print(\"Area:\", area)\n"
      ],
      "metadata": {
        "colab": {
          "base_uri": "https://localhost:8080/"
        },
        "id": "59J89BPeKXwy",
        "outputId": "d424f1ab-fc82-41e9-c898-2e54b5a3b9bc"
      },
      "execution_count": 6,
      "outputs": [
        {
          "output_type": "stream",
          "name": "stdout",
          "text": [
            "Area: 50\n"
          ]
        }
      ]
    },
    {
      "cell_type": "markdown",
      "source": [
        "#Python DataTypes\n"
      ],
      "metadata": {
        "id": "thS3OFr5Kdzi"
      }
    },
    {
      "cell_type": "code",
      "source": [
        "#Integer (int): Represents whole numbers.\n",
        "\n",
        "x = 10\n",
        "y = -5\n",
        "result = x + y\n",
        "print(result)  # Output: 5\n"
      ],
      "metadata": {
        "colab": {
          "base_uri": "https://localhost:8080/"
        },
        "id": "N2HQ9s6ZMsGx",
        "outputId": "c3b755a6-fac7-49f5-8de8-7516c8b7ab5d"
      },
      "execution_count": 7,
      "outputs": [
        {
          "output_type": "stream",
          "name": "stdout",
          "text": [
            "5\n"
          ]
        }
      ]
    },
    {
      "cell_type": "code",
      "source": [
        "#Float (float): Represents decimal numbers.\n",
        "\n",
        "pi = 3.14159\n",
        "radius = 5.0\n",
        "area = pi * radius ** 2\n",
        "print(area)  # Output: 78.53975\n"
      ],
      "metadata": {
        "colab": {
          "base_uri": "https://localhost:8080/"
        },
        "id": "immWCNe_OJ5G",
        "outputId": "b7af0196-d2e0-44d2-dff1-d03ba1651c4e"
      },
      "execution_count": 8,
      "outputs": [
        {
          "output_type": "stream",
          "name": "stdout",
          "text": [
            "78.53975\n"
          ]
        }
      ]
    },
    {
      "cell_type": "code",
      "source": [
        "#String (str): Represents text or characters.\n",
        "\n",
        "name = \"Alice\"\n",
        "greeting = \"Hello, \" + name\n",
        "print(greeting)  # Output: Hello, Alice\n"
      ],
      "metadata": {
        "colab": {
          "base_uri": "https://localhost:8080/"
        },
        "id": "ZNAdCTM-OT0F",
        "outputId": "9be4b8f9-451f-44ff-9e38-44884f84e6ed"
      },
      "execution_count": 9,
      "outputs": [
        {
          "output_type": "stream",
          "name": "stdout",
          "text": [
            "Hello, Alice\n"
          ]
        }
      ]
    },
    {
      "cell_type": "code",
      "source": [
        "#Boolean (bool): Represents True or False values.\n",
        "\n",
        "is_student = True\n",
        "has_license = False\n",
        "can_drive = is_student and not has_license\n",
        "print(can_drive)  # Output: True\n"
      ],
      "metadata": {
        "colab": {
          "base_uri": "https://localhost:8080/"
        },
        "id": "d0qaGjEDOadG",
        "outputId": "6129acc9-44d1-4755-f330-ee93a3f9ff17"
      },
      "execution_count": 10,
      "outputs": [
        {
          "output_type": "stream",
          "name": "stdout",
          "text": [
            "True\n"
          ]
        }
      ]
    },
    {
      "cell_type": "code",
      "source": [
        "#List: Ordered collection of items.\n",
        "\n",
        "fruits = [\"apple\", \"banana\", \"orange\"]\n",
        "fruits.append(\"grape\")\n",
        "print(fruits)  # Output: ['apple', 'banana', 'orange', 'grape']\n"
      ],
      "metadata": {
        "colab": {
          "base_uri": "https://localhost:8080/"
        },
        "id": "UJD3SygdOgtW",
        "outputId": "323f78dc-f05a-43c5-fd1a-dd69b03addc6"
      },
      "execution_count": 11,
      "outputs": [
        {
          "output_type": "stream",
          "name": "stdout",
          "text": [
            "['apple', 'banana', 'orange', 'grape']\n"
          ]
        }
      ]
    },
    {
      "cell_type": "code",
      "source": [
        "#Tuple: Similar to lists, but immutable (cannot be modified after creation).\n",
        "\n",
        "coordinates = (3, 5)\n",
        "x, y = coordinates\n",
        "print(x, y)  # Output: 3 5\n"
      ],
      "metadata": {
        "colab": {
          "base_uri": "https://localhost:8080/"
        },
        "id": "FTFXd-aeO38m",
        "outputId": "c24c9b90-d87a-4a62-913b-47e90e758391"
      },
      "execution_count": 12,
      "outputs": [
        {
          "output_type": "stream",
          "name": "stdout",
          "text": [
            "3 5\n"
          ]
        }
      ]
    },
    {
      "cell_type": "code",
      "source": [
        "#Dictionary: Collection of key-value pairs.\n",
        "\n",
        "person = {\n",
        "    \"name\": \"John\",\n",
        "    \"age\": 25,\n",
        "    \"is_student\": False\n",
        "}\n",
        "print(person[\"name\"])  # Output: John\n",
        "\n"
      ],
      "metadata": {
        "colab": {
          "base_uri": "https://localhost:8080/"
        },
        "id": "Lq1vbXAbPIMF",
        "outputId": "01e913f8-6b1a-4f0d-8301-586cf0d118fa"
      },
      "execution_count": 13,
      "outputs": [
        {
          "output_type": "stream",
          "name": "stdout",
          "text": [
            "John\n"
          ]
        }
      ]
    },
    {
      "cell_type": "code",
      "source": [
        "#Set: Collection of unique elements.\n",
        "\n",
        "colors = {\"red\", \"green\", \"blue\"}\n",
        "colors.add(\"yellow\")\n",
        "print(colors)\n"
      ],
      "metadata": {
        "colab": {
          "base_uri": "https://localhost:8080/"
        },
        "id": "kES55_prPW5-",
        "outputId": "6c2cc062-5ae8-4072-80be-029401b9de2e"
      },
      "execution_count": 17,
      "outputs": [
        {
          "output_type": "stream",
          "name": "stdout",
          "text": [
            "{'yellow', 'green', 'red', 'blue'}\n"
          ]
        }
      ]
    },
    {
      "cell_type": "code",
      "source": [
        "#NoneType (None): Represents the absence of a value.\n",
        "\n",
        "result = None\n",
        "if result is None:\n",
        "    print(\"No result available\")\n"
      ],
      "metadata": {
        "colab": {
          "base_uri": "https://localhost:8080/"
        },
        "id": "kjMeN2PwP0Ml",
        "outputId": "07ad398f-b0ad-4882-b407-d5e6bd50ebe3"
      },
      "execution_count": 18,
      "outputs": [
        {
          "output_type": "stream",
          "name": "stdout",
          "text": [
            "No result available\n"
          ]
        }
      ]
    },
    {
      "cell_type": "markdown",
      "source": [
        "#Python Numbers\n"
      ],
      "metadata": {
        "id": "0dyN-T4HR3iK"
      }
    },
    {
      "cell_type": "code",
      "source": [
        "#Int, or integer, is a whole number, positive or negative, without decimals, of unlimited length.\n",
        "\n",
        "x = 1\n",
        "y = 35656222554887711\n",
        "z = -3255522\n",
        "\n",
        "print(type(x))\n",
        "print(type(y))\n",
        "print(type(z))"
      ],
      "metadata": {
        "colab": {
          "base_uri": "https://localhost:8080/"
        },
        "id": "6MVCViURRuCo",
        "outputId": "ebbfec38-b0d7-4165-99ca-e879b1039856"
      },
      "execution_count": 19,
      "outputs": [
        {
          "output_type": "stream",
          "name": "stdout",
          "text": [
            "<class 'int'>\n",
            "<class 'int'>\n",
            "<class 'int'>\n"
          ]
        }
      ]
    },
    {
      "cell_type": "code",
      "source": [
        "#Float, or \"floating point number\" is a number, positive or negative, containing one or more decimals.\n",
        "\n",
        "x = 1.10\n",
        "y = 1.0\n",
        "z = -35.59\n",
        "\n",
        "print(type(x))\n",
        "print(type(y))\n",
        "print(type(z))"
      ],
      "metadata": {
        "colab": {
          "base_uri": "https://localhost:8080/"
        },
        "id": "6oYqFzA-R9If",
        "outputId": "3567cb82-bf8f-4592-84a8-618ded140160"
      },
      "execution_count": 20,
      "outputs": [
        {
          "output_type": "stream",
          "name": "stdout",
          "text": [
            "<class 'float'>\n",
            "<class 'float'>\n",
            "<class 'float'>\n"
          ]
        }
      ]
    },
    {
      "cell_type": "code",
      "source": [
        "#Complex numbers are written with a \"j\" as the imaginary part\n",
        "\n",
        "x = 3+5j\n",
        "y = 5j\n",
        "z = -5j\n",
        "\n",
        "print(type(x))\n",
        "print(type(y))\n",
        "print(type(z))"
      ],
      "metadata": {
        "colab": {
          "base_uri": "https://localhost:8080/"
        },
        "id": "Eu_PdMivSJRe",
        "outputId": "4f0538ad-879c-477d-e763-14b38a684efd"
      },
      "execution_count": 21,
      "outputs": [
        {
          "output_type": "stream",
          "name": "stdout",
          "text": [
            "<class 'complex'>\n",
            "<class 'complex'>\n",
            "<class 'complex'>\n"
          ]
        }
      ]
    },
    {
      "cell_type": "markdown",
      "source": [
        "#Type Conversion\n",
        "\n",
        "You can convert from one type to another with the int(), float(), and complex() methods"
      ],
      "metadata": {
        "id": "-ehMmbTmSfRd"
      }
    },
    {
      "cell_type": "code",
      "source": [
        "x = 1    # int\n",
        "y = 2.8  # float\n",
        "z = 1j   # complex\n",
        "\n",
        "#convert from int to float:\n",
        "a = float(x)\n",
        "\n",
        "#convert from float to int:\n",
        "b = int(y)\n",
        "\n",
        "#convert from int to complex:\n",
        "c = complex(x)\n",
        "\n",
        "print(a)\n",
        "print(b)\n",
        "print(c)\n",
        "\n",
        "print(type(a))\n",
        "print(type(b))\n",
        "print(type(c))"
      ],
      "metadata": {
        "colab": {
          "base_uri": "https://localhost:8080/"
        },
        "id": "R4fuC4HBTARI",
        "outputId": "8e93f525-ce5d-4235-d131-d244e6451edd"
      },
      "execution_count": 22,
      "outputs": [
        {
          "output_type": "stream",
          "name": "stdout",
          "text": [
            "1.0\n",
            "2\n",
            "(1+0j)\n",
            "<class 'float'>\n",
            "<class 'int'>\n",
            "<class 'complex'>\n"
          ]
        }
      ]
    },
    {
      "cell_type": "markdown",
      "source": [
        "#Python Casting\n"
      ],
      "metadata": {
        "id": "HbRPxHI7T4o8"
      }
    },
    {
      "cell_type": "code",
      "source": [
        "#int() - constructs an integer number from an integer literal\n",
        "#a float literal (by removing all decimals), or a string literal (providing the string represents a whole number)\n",
        "\n",
        "float_num = 3.14\n",
        "int_num = int(float_num)\n",
        "print(int_num)  # Output: 3\n"
      ],
      "metadata": {
        "colab": {
          "base_uri": "https://localhost:8080/"
        },
        "id": "Ukjg5TpST6vf",
        "outputId": "b8a23315-284b-4cde-bc44-5158143e3328"
      },
      "execution_count": 23,
      "outputs": [
        {
          "output_type": "stream",
          "name": "stdout",
          "text": [
            "3\n"
          ]
        }
      ]
    },
    {
      "cell_type": "code",
      "source": [
        "#float() - constructs a float number from an integer literal\n",
        "# a float literal or a string literal (providing the string represents a float or an integer)\n",
        "\n",
        "integer_num = 5\n",
        "float_num = float(integer_num)\n",
        "print(float_num)  # Output: 5.0\n"
      ],
      "metadata": {
        "colab": {
          "base_uri": "https://localhost:8080/"
        },
        "id": "J4EIAOX6UMgR",
        "outputId": "11f10534-b894-46d5-c319-a77db9096c55"
      },
      "execution_count": 24,
      "outputs": [
        {
          "output_type": "stream",
          "name": "stdout",
          "text": [
            "5.0\n"
          ]
        }
      ]
    },
    {
      "cell_type": "code",
      "source": [
        "#str() - constructs a string from a wide variety of data types, including strings, integer literals and float literals\n",
        "\n",
        "x = str(\"s1\")\n",
        "y = str(2)\n",
        "z = str(3.0)\n",
        "print(x)\n",
        "print(y)\n",
        "print(z)\n"
      ],
      "metadata": {
        "colab": {
          "base_uri": "https://localhost:8080/"
        },
        "id": "NFnGNq17UmW-",
        "outputId": "e4708e82-0d00-4417-8893-c855f57ca7d3"
      },
      "execution_count": 26,
      "outputs": [
        {
          "output_type": "stream",
          "name": "stdout",
          "text": [
            "s1\n",
            "2\n",
            "3.0\n"
          ]
        }
      ]
    },
    {
      "cell_type": "markdown",
      "source": [
        "#Python Strings\n"
      ],
      "metadata": {
        "id": "LL3Vuit7WJpp"
      }
    },
    {
      "cell_type": "code",
      "source": [
        "#Creating Strings\n",
        "\n",
        "single_quoted = 'This is a string.'\n",
        "double_quoted = \"This is also a string.\"\n",
        "multiline = '''This is a\n",
        "multiline\n",
        "string.'''\n"
      ],
      "metadata": {
        "id": "qj_QZ4jWWLsU"
      },
      "execution_count": 27,
      "outputs": []
    },
    {
      "cell_type": "code",
      "source": [
        "#Accessing Characters\n",
        "\n",
        "text = \"Python\"\n",
        "print(text[0])  # Output: P\n",
        "print(text[-1])  # Output: n\n"
      ],
      "metadata": {
        "colab": {
          "base_uri": "https://localhost:8080/"
        },
        "id": "PdwN5tAfWqUk",
        "outputId": "7d16efa4-3716-45e8-fd85-865d233fc76e"
      },
      "execution_count": 28,
      "outputs": [
        {
          "output_type": "stream",
          "name": "stdout",
          "text": [
            "P\n",
            "n\n"
          ]
        }
      ]
    },
    {
      "cell_type": "code",
      "source": [
        "#String Slicing\n",
        "\n",
        "message = \"Hello, Python!\"\n",
        "substring = message[7:13]  # Extracts \"Python\"\n",
        "print(substring)\n"
      ],
      "metadata": {
        "colab": {
          "base_uri": "https://localhost:8080/"
        },
        "id": "TW_aLixCWzFf",
        "outputId": "eb080f09-ab38-473c-e5d5-bc9c920d3208"
      },
      "execution_count": 30,
      "outputs": [
        {
          "output_type": "stream",
          "name": "stdout",
          "text": [
            "Python\n"
          ]
        }
      ]
    },
    {
      "cell_type": "code",
      "source": [
        "#String Concatenation\n",
        "\n",
        "greeting = \"Hello\"\n",
        "name = \"Alice\"\n",
        "message = greeting + \", \" + name + \"!\"\n",
        "print(message)\n"
      ],
      "metadata": {
        "colab": {
          "base_uri": "https://localhost:8080/"
        },
        "id": "rIbWxWyTXKgt",
        "outputId": "de81d39c-baff-4711-ae78-34497d7f15ce"
      },
      "execution_count": 33,
      "outputs": [
        {
          "output_type": "stream",
          "name": "stdout",
          "text": [
            "Hello, Alice!\n"
          ]
        }
      ]
    },
    {
      "cell_type": "code",
      "source": [
        "#String Methods\n",
        "\n",
        "text = \"   Python Programming   \"\n",
        "print(text.strip())  # Removes leading/trailing spaces\n",
        "\n",
        "\n",
        "print(text.lower())  # Converts to lowercase\n",
        "print(text.upper())  # Converts to uppercase\n",
        "\n",
        "\n",
        "print(text.replace(\"Python\", \"Java\"))  # Replaces substring\n",
        "\n",
        "\n",
        "print(text.split())  # Splits into a list of words\n",
        "\n"
      ],
      "metadata": {
        "colab": {
          "base_uri": "https://localhost:8080/"
        },
        "id": "AixVZEJYXexA",
        "outputId": "a4eedff4-91b9-4999-8c17-33525d603736"
      },
      "execution_count": 37,
      "outputs": [
        {
          "output_type": "stream",
          "name": "stdout",
          "text": [
            "Python Programming\n",
            "   python programming   \n",
            "   PYTHON PROGRAMMING   \n",
            "   Java Programming   \n",
            "['Python', 'Programming']\n"
          ]
        }
      ]
    },
    {
      "cell_type": "code",
      "source": [
        "#String Formatting\n",
        "\n",
        "name = \"Alice\"\n",
        "age = 25\n",
        "formatted = \"My name is {} and I'm {} years old.\".format(name, age)\n",
        "f_string = f\"My name is {name} and I'm {age} years old.\"\n",
        "print(f_string)\n"
      ],
      "metadata": {
        "colab": {
          "base_uri": "https://localhost:8080/"
        },
        "id": "MY1rS_ebX66n",
        "outputId": "69a5ad4b-c790-4baa-a605-4079783b2d7f"
      },
      "execution_count": 39,
      "outputs": [
        {
          "output_type": "stream",
          "name": "stdout",
          "text": [
            "My name is Alice and I'm 25 years old.\n"
          ]
        }
      ]
    },
    {
      "cell_type": "code",
      "source": [
        "#String Length\n",
        "\n",
        "text = \"Python\"\n",
        "length = len(text)  # Returns 6\n",
        "print(length)\n"
      ],
      "metadata": {
        "colab": {
          "base_uri": "https://localhost:8080/"
        },
        "id": "61myXwnEYLXV",
        "outputId": "f14b43fa-b1dd-4a94-c009-2c703295b7c1"
      },
      "execution_count": 41,
      "outputs": [
        {
          "output_type": "stream",
          "name": "stdout",
          "text": [
            "6\n"
          ]
        }
      ]
    },
    {
      "cell_type": "markdown",
      "source": [
        "#Python Booleans\n"
      ],
      "metadata": {
        "id": "KVZ-YT4YYiBv"
      }
    },
    {
      "cell_type": "code",
      "source": [
        "#Comparing two values with Operators Evaluvation\n",
        "\n",
        "print(10 > 9)\n",
        "print(10 == 9)\n",
        "print(10 < 9)\n"
      ],
      "metadata": {
        "colab": {
          "base_uri": "https://localhost:8080/"
        },
        "id": "gY4mYnu_Zj3_",
        "outputId": "b0efa434-a300-4b1c-cab9-c421dcd5fa61"
      },
      "execution_count": 43,
      "outputs": [
        {
          "output_type": "stream",
          "name": "stdout",
          "text": [
            "True\n",
            "False\n",
            "False\n"
          ]
        }
      ]
    },
    {
      "cell_type": "code",
      "source": [
        "#Using if Statement - Print a message based on whether the condition is True or False\n",
        "\n",
        "a = 200\n",
        "b = 33\n",
        "\n",
        "if b > a:\n",
        "  print(\"b is greater than a\")\n",
        "else:\n",
        "  print(\"b is not greater than a\")"
      ],
      "metadata": {
        "colab": {
          "base_uri": "https://localhost:8080/"
        },
        "id": "2Md2K9OfZ3_B",
        "outputId": "0e6c0f52-d3ee-4937-c350-e81f7035a0a3"
      },
      "execution_count": 44,
      "outputs": [
        {
          "output_type": "stream",
          "name": "stdout",
          "text": [
            "b is not greater than a\n"
          ]
        }
      ]
    },
    {
      "cell_type": "code",
      "source": [
        "#Print \"YES!\" if the function returns True, otherwise print \"NO!\"\n",
        "\n",
        "def myFunction() :\n",
        "  return True\n",
        "\n",
        "if myFunction():\n",
        "  print(\"YES!\")\n",
        "else:\n",
        "  print(\"NO!\")"
      ],
      "metadata": {
        "colab": {
          "base_uri": "https://localhost:8080/"
        },
        "id": "3A2zOwjqapXt",
        "outputId": "d757f5b5-c82d-4fda-d34d-be2725fed01e"
      },
      "execution_count": 45,
      "outputs": [
        {
          "output_type": "stream",
          "name": "stdout",
          "text": [
            "YES!\n"
          ]
        }
      ]
    },
    {
      "cell_type": "markdown",
      "source": [
        "#Python Operators\n"
      ],
      "metadata": {
        "id": "FYF4_8XecGE0"
      }
    },
    {
      "cell_type": "code",
      "source": [
        "#Arithmetic Operators: These operators are used for mathematical calculations.\n",
        "\n",
        "x = 10\n",
        "y = 3\n",
        "\n",
        "addition = x + y\n",
        "subtraction = x - y\n",
        "multiplication = x * y\n",
        "division = x / y\n",
        "remainder = x % y\n",
        "exponentiation = x ** y\n",
        "\n",
        "print(\"Addition:\", addition)          # Output: 13\n",
        "print(\"Subtraction:\", subtraction)    # Output: 7\n",
        "print(\"Multiplication:\", multiplication)  # Output: 30\n",
        "print(\"Division:\", division)          # Output: 3.333...\n",
        "print(\"Remainder:\", remainder)        # Output: 1\n",
        "print(\"Exponentiation:\", exponentiation)  # Output: 1000\n",
        "\n"
      ],
      "metadata": {
        "colab": {
          "base_uri": "https://localhost:8080/"
        },
        "id": "cQABQeOQcIq7",
        "outputId": "33756b79-1e7a-46c0-e65d-904f31af33e0"
      },
      "execution_count": 47,
      "outputs": [
        {
          "output_type": "stream",
          "name": "stdout",
          "text": [
            "Addition: 13\n",
            "Subtraction: 7\n",
            "Multiplication: 30\n",
            "Division: 3.3333333333333335\n",
            "Remainder: 1\n",
            "Exponentiation: 1000\n"
          ]
        }
      ]
    },
    {
      "cell_type": "code",
      "source": [
        "#Comparison Operators : These operators are used to compare values and return Boolean results.\n",
        "\n",
        "x = 10\n",
        "y = 5\n",
        "\n",
        "greater_than = x > y\n",
        "less_than_equal = x <= y\n",
        "not_equal = x != y\n",
        "\n",
        "print(\"Greater Than:\", greater_than)           # Output: True\n",
        "print(\"Less Than or Equal:\", less_than_equal)  # Output: False\n",
        "print(\"Not Equal:\", not_equal)                 # Output: True\n"
      ],
      "metadata": {
        "colab": {
          "base_uri": "https://localhost:8080/"
        },
        "id": "RxhTLwolcgfL",
        "outputId": "52ef0625-c3b6-4fdf-9d4c-cdfb124fe508"
      },
      "execution_count": 48,
      "outputs": [
        {
          "output_type": "stream",
          "name": "stdout",
          "text": [
            "Greater Than: True\n",
            "Less Than or Equal: False\n",
            "Not Equal: True\n"
          ]
        }
      ]
    },
    {
      "cell_type": "code",
      "source": [
        "#Logical Operators : Logical operators are used to combine or manipulate Boolean values.\n",
        "\n",
        "a = True\n",
        "b = False\n",
        "\n",
        "logical_and = a and b\n",
        "logical_or = a or b\n",
        "logical_not_a = not a\n",
        "\n",
        "print(\"Logical AND:\", logical_and)     # Output: False\n",
        "print(\"Logical OR:\", logical_or)       # Output: True\n",
        "print(\"Logical NOT of A:\", logical_not_a)  # Output: False\n"
      ],
      "metadata": {
        "colab": {
          "base_uri": "https://localhost:8080/"
        },
        "id": "0D5GD_4Uc9QD",
        "outputId": "dd52a74e-c8d6-402b-c080-3a48127e9dcc"
      },
      "execution_count": 49,
      "outputs": [
        {
          "output_type": "stream",
          "name": "stdout",
          "text": [
            "Logical AND: False\n",
            "Logical OR: True\n",
            "Logical NOT of A: False\n"
          ]
        }
      ]
    },
    {
      "cell_type": "code",
      "source": [
        "#Assignment Operators:Assignment operators are used to assign values to variables.\n",
        "\n",
        "x = 10\n",
        "x += 5   # Equivalent to x = x + 5\n",
        "x *= 2   # Equivalent to x = x * 2\n",
        "\n",
        "print(\"Updated x:\", x)  # Output: 30\n"
      ],
      "metadata": {
        "colab": {
          "base_uri": "https://localhost:8080/"
        },
        "id": "lGjMWBRHdFf5",
        "outputId": "efd50fe0-cbe0-48b7-bc2b-31d01e18610e"
      },
      "execution_count": 50,
      "outputs": [
        {
          "output_type": "stream",
          "name": "stdout",
          "text": [
            "Updated x: 30\n"
          ]
        }
      ]
    },
    {
      "cell_type": "code",
      "source": [
        "#Identity Operators:Identity operators are used to compare the memory locations of two objects.\n",
        "\n",
        "a = [1, 2, 3]\n",
        "b = a\n",
        "c = [1, 2, 3]\n",
        "\n",
        "is_same_as_b = a is b\n",
        "is_same_as_c = a is c\n",
        "is_equal_to_c = a == c\n",
        "\n",
        "print(\"Is Same as B:\", is_same_as_b)  # Output: True\n",
        "print(\"Is Same as C:\", is_same_as_c)  # Output: False\n",
        "print(\"Is Equal to C:\", is_equal_to_c)  # Output: True\n"
      ],
      "metadata": {
        "colab": {
          "base_uri": "https://localhost:8080/"
        },
        "id": "0OA9FbTDdNn8",
        "outputId": "11414d45-b9ed-4bb3-8105-f6c17ee4c63b"
      },
      "execution_count": 51,
      "outputs": [
        {
          "output_type": "stream",
          "name": "stdout",
          "text": [
            "Is Same as B: True\n",
            "Is Same as C: False\n",
            "Is Equal to C: True\n"
          ]
        }
      ]
    },
    {
      "cell_type": "code",
      "source": [
        "#Membership Operators:These operators check if a value exists within a sequence.\n",
        "\n",
        "fruits = [\"apple\", \"banana\", \"orange\"]\n",
        "\n",
        "is_in_list = \"apple\" in fruits\n",
        "is_not_in_list = \"grape\" not in fruits\n",
        "\n",
        "print(\"Is in List:\", is_in_list)        # Output: True\n",
        "print(\"Is Not in List:\", is_not_in_list)  # Output: True\n"
      ],
      "metadata": {
        "colab": {
          "base_uri": "https://localhost:8080/"
        },
        "id": "SNnJAlK6dVe0",
        "outputId": "782d3090-20d1-4989-a664-b84cc5c2914e"
      },
      "execution_count": 52,
      "outputs": [
        {
          "output_type": "stream",
          "name": "stdout",
          "text": [
            "Is in List: True\n",
            "Is Not in List: True\n"
          ]
        }
      ]
    },
    {
      "cell_type": "markdown",
      "source": [
        "#Python Conditional Statement\n"
      ],
      "metadata": {
        "id": "Jf9BF5ajeCON"
      }
    },
    {
      "cell_type": "code",
      "source": [
        "#if Statement : The if statement allows you to execute a block of code only if a certain condition is true.\n",
        "#An \"if statement\" is written by using the if keyword.\n",
        "\n",
        "x = 10\n",
        "if x > 5:\n",
        "    print(\"x is greater than 5\")"
      ],
      "metadata": {
        "colab": {
          "base_uri": "https://localhost:8080/"
        },
        "id": "swNdQapNeRtz",
        "outputId": "991dd9e2-6112-4a1c-ce03-9e8333e38de9"
      },
      "execution_count": 53,
      "outputs": [
        {
          "output_type": "stream",
          "name": "stdout",
          "text": [
            "x is greater than 5\n"
          ]
        }
      ]
    },
    {
      "cell_type": "code",
      "source": [
        "#if-else Statement : The if-else statement enables you to execute one block of code if the condition is true and another block if the condition is false.\n",
        "\n",
        "age = 18\n",
        "if age >= 18:\n",
        "    print(\"You're an adult.\")\n",
        "else:\n",
        "    print(\"You're a minor.\")\n"
      ],
      "metadata": {
        "colab": {
          "base_uri": "https://localhost:8080/"
        },
        "id": "lIjDvu_hfNbX",
        "outputId": "0cb326b2-6b20-44b8-d6c4-4f57dc872984"
      },
      "execution_count": 54,
      "outputs": [
        {
          "output_type": "stream",
          "name": "stdout",
          "text": [
            "You're an adult.\n"
          ]
        }
      ]
    },
    {
      "cell_type": "code",
      "source": [
        "#if-elif-else Statement : The if-elif-else statement allows you to evaluate multiple conditions in sequence and execute the block of code associated with the first true condition.\n",
        "#If none of the conditions are true, the else block (if present) is executed.\n",
        "\n",
        "score = 85\n",
        "if score >= 90:\n",
        "    print(\"Grade: A\")\n",
        "elif score >= 80:\n",
        "    print(\"Grade: B\")\n",
        "elif score >= 70:\n",
        "    print(\"Grade: C\")\n",
        "else:\n",
        "    print(\"Grade: D\")\n"
      ],
      "metadata": {
        "colab": {
          "base_uri": "https://localhost:8080/"
        },
        "id": "CrwT1J2JfjcN",
        "outputId": "dc4d9cda-1d0f-49ad-c57f-34958d260d6b"
      },
      "execution_count": 55,
      "outputs": [
        {
          "output_type": "stream",
          "name": "stdout",
          "text": [
            "Grade: B\n"
          ]
        }
      ]
    },
    {
      "cell_type": "code",
      "source": [
        "#Nested if Statements: You can also nest conditional statements within each other to create more complex decision trees.\n",
        "\n",
        "x = 5\n",
        "y = 10\n",
        "if x > 0:\n",
        "    if y > 5:\n",
        "        print(\"Both conditions are true.\")\n",
        "    else:\n",
        "        print(\"Second condition is false.\")\n",
        "else:\n",
        "    print(\"First condition is false.\")\n"
      ],
      "metadata": {
        "colab": {
          "base_uri": "https://localhost:8080/"
        },
        "id": "OCck7INtfyhs",
        "outputId": "297dac51-df70-491a-a619-5ebcf86c1b72"
      },
      "execution_count": 56,
      "outputs": [
        {
          "output_type": "stream",
          "name": "stdout",
          "text": [
            "Both conditions are true.\n"
          ]
        }
      ]
    },
    {
      "cell_type": "markdown",
      "source": [
        "#Python Looping Statement\n"
      ],
      "metadata": {
        "id": "-LqaihCpiEVn"
      }
    },
    {
      "cell_type": "code",
      "source": [
        "#for Loop: The for loop is used to iterate over a sequence (such as a list, tuple, or string)\n",
        "#and execute a block of code for each element in the sequence.\n",
        "\n",
        "\n",
        "fruits = [\"apple\", \"banana\", \"cherry\"]\n",
        "for fruit in fruits:\n",
        "    print(fruit)\n"
      ],
      "metadata": {
        "colab": {
          "base_uri": "https://localhost:8080/"
        },
        "id": "R1lWlqGriJDH",
        "outputId": "6883bc55-2f11-423b-facb-d1d4a1ad2d25"
      },
      "execution_count": 57,
      "outputs": [
        {
          "output_type": "stream",
          "name": "stdout",
          "text": [
            "apple\n",
            "banana\n",
            "cherry\n"
          ]
        }
      ]
    },
    {
      "cell_type": "code",
      "source": [
        "# while Loop : The while loop repeatedly executes a block of code as long as a specified condition is true.\n",
        "\n",
        "count = 0\n",
        "while count < 5:\n",
        "    print(\"Count:\", count)\n",
        "    count += 1\n"
      ],
      "metadata": {
        "colab": {
          "base_uri": "https://localhost:8080/"
        },
        "id": "E8NcfQQZiUgT",
        "outputId": "c59b29a1-f3a6-4c6d-925a-42d7164cdf9d"
      },
      "execution_count": 58,
      "outputs": [
        {
          "output_type": "stream",
          "name": "stdout",
          "text": [
            "Count: 0\n",
            "Count: 1\n",
            "Count: 2\n",
            "Count: 3\n",
            "Count: 4\n"
          ]
        }
      ]
    },
    {
      "cell_type": "code",
      "source": [
        "#break Statement:The break statement is used within a loop to immediately exit the loop, regardless of whether the loop's condition is still true.\n",
        "\n",
        "numbers = [1, 2, 3, 4, 5]\n",
        "for num in numbers:\n",
        "    if num == 3:\n",
        "        break\n",
        "    print(num)  # Outputs only 1 and 2\n"
      ],
      "metadata": {
        "colab": {
          "base_uri": "https://localhost:8080/"
        },
        "id": "Ng0HVsVqiohO",
        "outputId": "19656923-e3df-4273-fdc6-9ad1e34a528b"
      },
      "execution_count": 59,
      "outputs": [
        {
          "output_type": "stream",
          "name": "stdout",
          "text": [
            "1\n",
            "2\n"
          ]
        }
      ]
    },
    {
      "cell_type": "code",
      "source": [
        "#continue Statement: The continue statement is used within a loop to skip the current iteration and proceed to the next one.\n",
        "\n",
        "numbers = [1, 2, 3, 4, 5]\n",
        "for num in numbers:\n",
        "    if num == 3:\n",
        "        continue\n",
        "    print(num)  # Outputs all numbers except 3\n"
      ],
      "metadata": {
        "colab": {
          "base_uri": "https://localhost:8080/"
        },
        "id": "k0DtdHuIiu9D",
        "outputId": "ad0e1bbc-7463-45c2-d9f0-7e1c75a898d3"
      },
      "execution_count": 60,
      "outputs": [
        {
          "output_type": "stream",
          "name": "stdout",
          "text": [
            "1\n",
            "2\n",
            "4\n",
            "5\n"
          ]
        }
      ]
    },
    {
      "cell_type": "code",
      "source": [
        "#Nested Loops: You can also nest loops within each other to create more complex iteration patterns\n",
        "\n",
        "for i in range(3):\n",
        "    for j in range(2):\n",
        "        print(i, j)\n"
      ],
      "metadata": {
        "colab": {
          "base_uri": "https://localhost:8080/"
        },
        "id": "bsWu2myTi2nF",
        "outputId": "07193910-0ead-4ea7-96e9-99b067241682"
      },
      "execution_count": 61,
      "outputs": [
        {
          "output_type": "stream",
          "name": "stdout",
          "text": [
            "0 0\n",
            "0 1\n",
            "1 0\n",
            "1 1\n",
            "2 0\n",
            "2 1\n"
          ]
        }
      ]
    },
    {
      "cell_type": "code",
      "source": [
        "#The else Statement : With the else statement we can run a block of code once when the condition no longer is true\n",
        "\n",
        "i = 1\n",
        "while i < 6:\n",
        "  print(i)\n",
        "  i += 1\n",
        "else:\n",
        "  print(\"i is no longer less than 6\")"
      ],
      "metadata": {
        "colab": {
          "base_uri": "https://localhost:8080/"
        },
        "id": "cvn56HZIj0lk",
        "outputId": "50715e73-e630-4e27-de1c-263eda90dd45"
      },
      "execution_count": 62,
      "outputs": [
        {
          "output_type": "stream",
          "name": "stdout",
          "text": [
            "1\n",
            "2\n",
            "3\n",
            "4\n",
            "5\n",
            "i is no longer less than 6\n"
          ]
        }
      ]
    },
    {
      "cell_type": "markdown",
      "source": [
        "#Python Functions\n"
      ],
      "metadata": {
        "id": "Z82o6_nllybe"
      }
    },
    {
      "cell_type": "code",
      "source": [
        "# Defining a function with parameters\n",
        "def greet(name):\n",
        "    return \"Hello, \" + name + \"!\"\n",
        "\n",
        "# Calling the function\n",
        "greeting = greet(\"Alice\")  # Returns \"Hello, Alice!\"\n",
        "\n",
        "# Defining a function with default parameter\n",
        "def add(x, y=0):\n",
        "    return x + y\n",
        "\n",
        "# Calling the function with different argument variations\n",
        "result1 = add(3, 5)   # Result is 8\n",
        "result2 = add(10)     # Result is 10 (uses default y=0)\n",
        "\n",
        "# Defining a function with variable arguments\n",
        "def calculate_total(*prices):\n",
        "    total = sum(prices)\n",
        "    return total\n",
        "\n",
        "# Calling the function with different number of arguments\n",
        "total1 = calculate_total(10, 20, 30)  # Result is 60\n",
        "total2 = calculate_total(5, 10)      # Result is 15\n",
        "\n",
        "# Defining a lambda function\n",
        "square = lambda x: x ** 2\n",
        "\n",
        "# Using the lambda function\n",
        "square_result = square(5)  # Result is 25\n",
        "\n",
        "# Function with local variable\n",
        "def example():\n",
        "    local_var = \"I'm local\"\n",
        "    return local_var\n",
        "\n",
        "local_result = example()   # Returns \"I'm local\"\n",
        "\n",
        "# Function with global variable\n",
        "global_var = \"I'm global\"\n",
        "\n",
        "def print_global():\n",
        "    print(global_var)\n",
        "\n",
        "print_global()  # Output: \"I'm global\"\n"
      ],
      "metadata": {
        "colab": {
          "base_uri": "https://localhost:8080/"
        },
        "id": "_id6CbAkl2bL",
        "outputId": "f9d439b3-54d8-4adf-cb6d-20a9b42037ca"
      },
      "execution_count": 63,
      "outputs": [
        {
          "output_type": "stream",
          "name": "stdout",
          "text": [
            "I'm global\n"
          ]
        }
      ]
    },
    {
      "cell_type": "code",
      "source": [],
      "metadata": {
        "id": "8gRqSUiSnOUW"
      },
      "execution_count": null,
      "outputs": []
    }
  ]
}