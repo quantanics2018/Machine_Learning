{
  "nbformat": 4,
  "nbformat_minor": 0,
  "metadata": {
    "colab": {
      "provenance": []
    },
    "kernelspec": {
      "name": "python3",
      "display_name": "Python 3"
    },
    "language_info": {
      "name": "python"
    }
  },
  "cells": [
    {
      "cell_type": "code",
      "execution_count": null,
      "metadata": {
        "id": "ymzYUVtpzALv"
      },
      "outputs": [],
      "source": [
        "import numpy as np\n",
        "import matplotlib.pyplot as plt\n",
        "import pandas as pd\n",
        "import seaborn as sns"
      ]
    },
    {
      "cell_type": "markdown",
      "source": [
        "#Load the dataset"
      ],
      "metadata": {
        "id": "t4_mLf6p0QRw"
      }
    },
    {
      "cell_type": "code",
      "source": [
        "df=pd.read_csv('/content/BreastCancerWisconsinDataSet.csv')"
      ],
      "metadata": {
        "id": "7THv31ryzwkE"
      },
      "execution_count": null,
      "outputs": []
    },
    {
      "cell_type": "code",
      "source": [
        "df.head()"
      ],
      "metadata": {
        "colab": {
          "base_uri": "https://localhost:8080/",
          "height": 272
        },
        "id": "D_meRlHOz-Xn",
        "outputId": "a58ccd24-2195-47ff-a75e-72806da58c09"
      },
      "execution_count": null,
      "outputs": [
        {
          "output_type": "execute_result",
          "data": {
            "text/plain": [
              "         id diagnosis  radius_mean  texture_mean  perimeter_mean  area_mean  \\\n",
              "0    842302         M        17.99         10.38          122.80     1001.0   \n",
              "1    842517         M        20.57         17.77          132.90     1326.0   \n",
              "2  84300903         M        19.69         21.25          130.00     1203.0   \n",
              "3  84348301         M        11.42         20.38           77.58      386.1   \n",
              "4  84358402         M        20.29         14.34          135.10     1297.0   \n",
              "\n",
              "   smoothness_mean  compactness_mean  concavity_mean  concave points_mean  \\\n",
              "0          0.11840           0.27760          0.3001              0.14710   \n",
              "1          0.08474           0.07864          0.0869              0.07017   \n",
              "2          0.10960           0.15990          0.1974              0.12790   \n",
              "3          0.14250           0.28390          0.2414              0.10520   \n",
              "4          0.10030           0.13280          0.1980              0.10430   \n",
              "\n",
              "   ...  radius_worst  texture_worst  perimeter_worst  area_worst  \\\n",
              "0  ...         25.38          17.33           184.60      2019.0   \n",
              "1  ...         24.99          23.41           158.80      1956.0   \n",
              "2  ...         23.57          25.53           152.50      1709.0   \n",
              "3  ...         14.91          26.50            98.87       567.7   \n",
              "4  ...         22.54          16.67           152.20      1575.0   \n",
              "\n",
              "   smoothness_worst  compactness_worst  concavity_worst  concave points_worst  \\\n",
              "0            0.1622             0.6656           0.7119                0.2654   \n",
              "1            0.1238             0.1866           0.2416                0.1860   \n",
              "2            0.1444             0.4245           0.4504                0.2430   \n",
              "3            0.2098             0.8663           0.6869                0.2575   \n",
              "4            0.1374             0.2050           0.4000                0.1625   \n",
              "\n",
              "   symmetry_worst  fractal_dimension_worst  \n",
              "0          0.4601                  0.11890  \n",
              "1          0.2750                  0.08902  \n",
              "2          0.3613                  0.08758  \n",
              "3          0.6638                  0.17300  \n",
              "4          0.2364                  0.07678  \n",
              "\n",
              "[5 rows x 32 columns]"
            ],
            "text/html": [
              "\n",
              "  <div id=\"df-e93409c1-20cf-46e4-a4c7-46f2f6d0a24d\" class=\"colab-df-container\">\n",
              "    <div>\n",
              "<style scoped>\n",
              "    .dataframe tbody tr th:only-of-type {\n",
              "        vertical-align: middle;\n",
              "    }\n",
              "\n",
              "    .dataframe tbody tr th {\n",
              "        vertical-align: top;\n",
              "    }\n",
              "\n",
              "    .dataframe thead th {\n",
              "        text-align: right;\n",
              "    }\n",
              "</style>\n",
              "<table border=\"1\" class=\"dataframe\">\n",
              "  <thead>\n",
              "    <tr style=\"text-align: right;\">\n",
              "      <th></th>\n",
              "      <th>id</th>\n",
              "      <th>diagnosis</th>\n",
              "      <th>radius_mean</th>\n",
              "      <th>texture_mean</th>\n",
              "      <th>perimeter_mean</th>\n",
              "      <th>area_mean</th>\n",
              "      <th>smoothness_mean</th>\n",
              "      <th>compactness_mean</th>\n",
              "      <th>concavity_mean</th>\n",
              "      <th>concave points_mean</th>\n",
              "      <th>...</th>\n",
              "      <th>radius_worst</th>\n",
              "      <th>texture_worst</th>\n",
              "      <th>perimeter_worst</th>\n",
              "      <th>area_worst</th>\n",
              "      <th>smoothness_worst</th>\n",
              "      <th>compactness_worst</th>\n",
              "      <th>concavity_worst</th>\n",
              "      <th>concave points_worst</th>\n",
              "      <th>symmetry_worst</th>\n",
              "      <th>fractal_dimension_worst</th>\n",
              "    </tr>\n",
              "  </thead>\n",
              "  <tbody>\n",
              "    <tr>\n",
              "      <th>0</th>\n",
              "      <td>842302</td>\n",
              "      <td>M</td>\n",
              "      <td>17.99</td>\n",
              "      <td>10.38</td>\n",
              "      <td>122.80</td>\n",
              "      <td>1001.0</td>\n",
              "      <td>0.11840</td>\n",
              "      <td>0.27760</td>\n",
              "      <td>0.3001</td>\n",
              "      <td>0.14710</td>\n",
              "      <td>...</td>\n",
              "      <td>25.38</td>\n",
              "      <td>17.33</td>\n",
              "      <td>184.60</td>\n",
              "      <td>2019.0</td>\n",
              "      <td>0.1622</td>\n",
              "      <td>0.6656</td>\n",
              "      <td>0.7119</td>\n",
              "      <td>0.2654</td>\n",
              "      <td>0.4601</td>\n",
              "      <td>0.11890</td>\n",
              "    </tr>\n",
              "    <tr>\n",
              "      <th>1</th>\n",
              "      <td>842517</td>\n",
              "      <td>M</td>\n",
              "      <td>20.57</td>\n",
              "      <td>17.77</td>\n",
              "      <td>132.90</td>\n",
              "      <td>1326.0</td>\n",
              "      <td>0.08474</td>\n",
              "      <td>0.07864</td>\n",
              "      <td>0.0869</td>\n",
              "      <td>0.07017</td>\n",
              "      <td>...</td>\n",
              "      <td>24.99</td>\n",
              "      <td>23.41</td>\n",
              "      <td>158.80</td>\n",
              "      <td>1956.0</td>\n",
              "      <td>0.1238</td>\n",
              "      <td>0.1866</td>\n",
              "      <td>0.2416</td>\n",
              "      <td>0.1860</td>\n",
              "      <td>0.2750</td>\n",
              "      <td>0.08902</td>\n",
              "    </tr>\n",
              "    <tr>\n",
              "      <th>2</th>\n",
              "      <td>84300903</td>\n",
              "      <td>M</td>\n",
              "      <td>19.69</td>\n",
              "      <td>21.25</td>\n",
              "      <td>130.00</td>\n",
              "      <td>1203.0</td>\n",
              "      <td>0.10960</td>\n",
              "      <td>0.15990</td>\n",
              "      <td>0.1974</td>\n",
              "      <td>0.12790</td>\n",
              "      <td>...</td>\n",
              "      <td>23.57</td>\n",
              "      <td>25.53</td>\n",
              "      <td>152.50</td>\n",
              "      <td>1709.0</td>\n",
              "      <td>0.1444</td>\n",
              "      <td>0.4245</td>\n",
              "      <td>0.4504</td>\n",
              "      <td>0.2430</td>\n",
              "      <td>0.3613</td>\n",
              "      <td>0.08758</td>\n",
              "    </tr>\n",
              "    <tr>\n",
              "      <th>3</th>\n",
              "      <td>84348301</td>\n",
              "      <td>M</td>\n",
              "      <td>11.42</td>\n",
              "      <td>20.38</td>\n",
              "      <td>77.58</td>\n",
              "      <td>386.1</td>\n",
              "      <td>0.14250</td>\n",
              "      <td>0.28390</td>\n",
              "      <td>0.2414</td>\n",
              "      <td>0.10520</td>\n",
              "      <td>...</td>\n",
              "      <td>14.91</td>\n",
              "      <td>26.50</td>\n",
              "      <td>98.87</td>\n",
              "      <td>567.7</td>\n",
              "      <td>0.2098</td>\n",
              "      <td>0.8663</td>\n",
              "      <td>0.6869</td>\n",
              "      <td>0.2575</td>\n",
              "      <td>0.6638</td>\n",
              "      <td>0.17300</td>\n",
              "    </tr>\n",
              "    <tr>\n",
              "      <th>4</th>\n",
              "      <td>84358402</td>\n",
              "      <td>M</td>\n",
              "      <td>20.29</td>\n",
              "      <td>14.34</td>\n",
              "      <td>135.10</td>\n",
              "      <td>1297.0</td>\n",
              "      <td>0.10030</td>\n",
              "      <td>0.13280</td>\n",
              "      <td>0.1980</td>\n",
              "      <td>0.10430</td>\n",
              "      <td>...</td>\n",
              "      <td>22.54</td>\n",
              "      <td>16.67</td>\n",
              "      <td>152.20</td>\n",
              "      <td>1575.0</td>\n",
              "      <td>0.1374</td>\n",
              "      <td>0.2050</td>\n",
              "      <td>0.4000</td>\n",
              "      <td>0.1625</td>\n",
              "      <td>0.2364</td>\n",
              "      <td>0.07678</td>\n",
              "    </tr>\n",
              "  </tbody>\n",
              "</table>\n",
              "<p>5 rows × 32 columns</p>\n",
              "</div>\n",
              "    <div class=\"colab-df-buttons\">\n",
              "\n",
              "  <div class=\"colab-df-container\">\n",
              "    <button class=\"colab-df-convert\" onclick=\"convertToInteractive('df-e93409c1-20cf-46e4-a4c7-46f2f6d0a24d')\"\n",
              "            title=\"Convert this dataframe to an interactive table.\"\n",
              "            style=\"display:none;\">\n",
              "\n",
              "  <svg xmlns=\"http://www.w3.org/2000/svg\" height=\"24px\" viewBox=\"0 -960 960 960\">\n",
              "    <path d=\"M120-120v-720h720v720H120Zm60-500h600v-160H180v160Zm220 220h160v-160H400v160Zm0 220h160v-160H400v160ZM180-400h160v-160H180v160Zm440 0h160v-160H620v160ZM180-180h160v-160H180v160Zm440 0h160v-160H620v160Z\"/>\n",
              "  </svg>\n",
              "    </button>\n",
              "\n",
              "  <style>\n",
              "    .colab-df-container {\n",
              "      display:flex;\n",
              "      gap: 12px;\n",
              "    }\n",
              "\n",
              "    .colab-df-convert {\n",
              "      background-color: #E8F0FE;\n",
              "      border: none;\n",
              "      border-radius: 50%;\n",
              "      cursor: pointer;\n",
              "      display: none;\n",
              "      fill: #1967D2;\n",
              "      height: 32px;\n",
              "      padding: 0 0 0 0;\n",
              "      width: 32px;\n",
              "    }\n",
              "\n",
              "    .colab-df-convert:hover {\n",
              "      background-color: #E2EBFA;\n",
              "      box-shadow: 0px 1px 2px rgba(60, 64, 67, 0.3), 0px 1px 3px 1px rgba(60, 64, 67, 0.15);\n",
              "      fill: #174EA6;\n",
              "    }\n",
              "\n",
              "    .colab-df-buttons div {\n",
              "      margin-bottom: 4px;\n",
              "    }\n",
              "\n",
              "    [theme=dark] .colab-df-convert {\n",
              "      background-color: #3B4455;\n",
              "      fill: #D2E3FC;\n",
              "    }\n",
              "\n",
              "    [theme=dark] .colab-df-convert:hover {\n",
              "      background-color: #434B5C;\n",
              "      box-shadow: 0px 1px 3px 1px rgba(0, 0, 0, 0.15);\n",
              "      filter: drop-shadow(0px 1px 2px rgba(0, 0, 0, 0.3));\n",
              "      fill: #FFFFFF;\n",
              "    }\n",
              "  </style>\n",
              "\n",
              "    <script>\n",
              "      const buttonEl =\n",
              "        document.querySelector('#df-e93409c1-20cf-46e4-a4c7-46f2f6d0a24d button.colab-df-convert');\n",
              "      buttonEl.style.display =\n",
              "        google.colab.kernel.accessAllowed ? 'block' : 'none';\n",
              "\n",
              "      async function convertToInteractive(key) {\n",
              "        const element = document.querySelector('#df-e93409c1-20cf-46e4-a4c7-46f2f6d0a24d');\n",
              "        const dataTable =\n",
              "          await google.colab.kernel.invokeFunction('convertToInteractive',\n",
              "                                                    [key], {});\n",
              "        if (!dataTable) return;\n",
              "\n",
              "        const docLinkHtml = 'Like what you see? Visit the ' +\n",
              "          '<a target=\"_blank\" href=https://colab.research.google.com/notebooks/data_table.ipynb>data table notebook</a>'\n",
              "          + ' to learn more about interactive tables.';\n",
              "        element.innerHTML = '';\n",
              "        dataTable['output_type'] = 'display_data';\n",
              "        await google.colab.output.renderOutput(dataTable, element);\n",
              "        const docLink = document.createElement('div');\n",
              "        docLink.innerHTML = docLinkHtml;\n",
              "        element.appendChild(docLink);\n",
              "      }\n",
              "    </script>\n",
              "  </div>\n",
              "\n",
              "\n",
              "<div id=\"df-6afe573e-ea97-47b5-a231-aaa382db84b4\">\n",
              "  <button class=\"colab-df-quickchart\" onclick=\"quickchart('df-6afe573e-ea97-47b5-a231-aaa382db84b4')\"\n",
              "            title=\"Suggest charts.\"\n",
              "            style=\"display:none;\">\n",
              "\n",
              "<svg xmlns=\"http://www.w3.org/2000/svg\" height=\"24px\"viewBox=\"0 0 24 24\"\n",
              "     width=\"24px\">\n",
              "    <g>\n",
              "        <path d=\"M19 3H5c-1.1 0-2 .9-2 2v14c0 1.1.9 2 2 2h14c1.1 0 2-.9 2-2V5c0-1.1-.9-2-2-2zM9 17H7v-7h2v7zm4 0h-2V7h2v10zm4 0h-2v-4h2v4z\"/>\n",
              "    </g>\n",
              "</svg>\n",
              "  </button>\n",
              "\n",
              "<style>\n",
              "  .colab-df-quickchart {\n",
              "    background-color: #E8F0FE;\n",
              "    border: none;\n",
              "    border-radius: 50%;\n",
              "    cursor: pointer;\n",
              "    display: none;\n",
              "    fill: #1967D2;\n",
              "    height: 32px;\n",
              "    padding: 0 0 0 0;\n",
              "    width: 32px;\n",
              "  }\n",
              "\n",
              "  .colab-df-quickchart:hover {\n",
              "    background-color: #E2EBFA;\n",
              "    box-shadow: 0px 1px 2px rgba(60, 64, 67, 0.3), 0px 1px 3px 1px rgba(60, 64, 67, 0.15);\n",
              "    fill: #174EA6;\n",
              "  }\n",
              "\n",
              "  [theme=dark] .colab-df-quickchart {\n",
              "    background-color: #3B4455;\n",
              "    fill: #D2E3FC;\n",
              "  }\n",
              "\n",
              "  [theme=dark] .colab-df-quickchart:hover {\n",
              "    background-color: #434B5C;\n",
              "    box-shadow: 0px 1px 3px 1px rgba(0, 0, 0, 0.15);\n",
              "    filter: drop-shadow(0px 1px 2px rgba(0, 0, 0, 0.3));\n",
              "    fill: #FFFFFF;\n",
              "  }\n",
              "</style>\n",
              "\n",
              "  <script>\n",
              "    async function quickchart(key) {\n",
              "      const charts = await google.colab.kernel.invokeFunction(\n",
              "          'suggestCharts', [key], {});\n",
              "    }\n",
              "    (() => {\n",
              "      let quickchartButtonEl =\n",
              "        document.querySelector('#df-6afe573e-ea97-47b5-a231-aaa382db84b4 button');\n",
              "      quickchartButtonEl.style.display =\n",
              "        google.colab.kernel.accessAllowed ? 'block' : 'none';\n",
              "    })();\n",
              "  </script>\n",
              "</div>\n",
              "    </div>\n",
              "  </div>\n"
            ]
          },
          "metadata": {},
          "execution_count": 3
        }
      ]
    },
    {
      "cell_type": "code",
      "source": [
        "df.shape"
      ],
      "metadata": {
        "colab": {
          "base_uri": "https://localhost:8080/"
        },
        "id": "Y4xiuclA0O_n",
        "outputId": "0939061c-a4f9-4b11-a97b-3eb114618d84"
      },
      "execution_count": null,
      "outputs": [
        {
          "output_type": "execute_result",
          "data": {
            "text/plain": [
              "(569, 32)"
            ]
          },
          "metadata": {},
          "execution_count": 4
        }
      ]
    },
    {
      "cell_type": "markdown",
      "source": [
        "WE can see that the data set has 569 records and 32 features."
      ],
      "metadata": {
        "id": "pw8tUZTp0i7o"
      }
    },
    {
      "cell_type": "code",
      "source": [
        "df['diagnosis'].unique()"
      ],
      "metadata": {
        "colab": {
          "base_uri": "https://localhost:8080/"
        },
        "id": "-pU-WxQs06Rm",
        "outputId": "7ec40e84-e40b-42af-bf39-d6d51f82eff0"
      },
      "execution_count": null,
      "outputs": [
        {
          "output_type": "execute_result",
          "data": {
            "text/plain": [
              "array(['M', 'B'], dtype=object)"
            ]
          },
          "metadata": {},
          "execution_count": 5
        }
      ]
    },
    {
      "cell_type": "code",
      "source": [
        "df.isnull().sum()\n"
      ],
      "metadata": {
        "colab": {
          "base_uri": "https://localhost:8080/"
        },
        "id": "Uc9pPd7C0_q5",
        "outputId": "f22c3d0c-1551-4d1b-8631-447625cc6951"
      },
      "execution_count": null,
      "outputs": [
        {
          "output_type": "execute_result",
          "data": {
            "text/plain": [
              "id                         0\n",
              "diagnosis                  0\n",
              "radius_mean                0\n",
              "texture_mean               0\n",
              "perimeter_mean             0\n",
              "area_mean                  0\n",
              "smoothness_mean            0\n",
              "compactness_mean           0\n",
              "concavity_mean             0\n",
              "concave points_mean        0\n",
              "symmetry_mean              0\n",
              "fractal_dimension_mean     0\n",
              "radius_se                  0\n",
              "texture_se                 0\n",
              "perimeter_se               0\n",
              "area_se                    0\n",
              "smoothness_se              0\n",
              "compactness_se             0\n",
              "concavity_se               0\n",
              "concave points_se          0\n",
              "symmetry_se                0\n",
              "fractal_dimension_se       0\n",
              "radius_worst               0\n",
              "texture_worst              0\n",
              "perimeter_worst            0\n",
              "area_worst                 0\n",
              "smoothness_worst           0\n",
              "compactness_worst          0\n",
              "concavity_worst            0\n",
              "concave points_worst       0\n",
              "symmetry_worst             0\n",
              "fractal_dimension_worst    0\n",
              "dtype: int64"
            ]
          },
          "metadata": {},
          "execution_count": 6
        }
      ]
    },
    {
      "cell_type": "code",
      "source": [
        "df.groupby('diagnosis').size()"
      ],
      "metadata": {
        "colab": {
          "base_uri": "https://localhost:8080/"
        },
        "id": "Z_OXKdsR1nGK",
        "outputId": "b0ceb03d-b841-472d-b414-95d0b5fdefbe"
      },
      "execution_count": null,
      "outputs": [
        {
          "output_type": "execute_result",
          "data": {
            "text/plain": [
              "diagnosis\n",
              "B    357\n",
              "M    212\n",
              "dtype: int64"
            ]
          },
          "metadata": {},
          "execution_count": 7
        }
      ]
    },
    {
      "cell_type": "code",
      "source": [
        "\n",
        "sns.countplot(df,x='diagnosis')"
      ],
      "metadata": {
        "colab": {
          "base_uri": "https://localhost:8080/",
          "height": 467
        },
        "id": "0Z9ntHMW2Md5",
        "outputId": "9b8d1bbd-f224-4c39-eb6f-405fd9c053f9"
      },
      "execution_count": null,
      "outputs": [
        {
          "output_type": "execute_result",
          "data": {
            "text/plain": [
              "<Axes: xlabel='diagnosis', ylabel='count'>"
            ]
          },
          "metadata": {},
          "execution_count": 8
        },
        {
          "output_type": "display_data",
          "data": {
            "text/plain": [
              "<Figure size 640x480 with 1 Axes>"
            ],
            "image/png": "[encoded data removed]"
          },
          "metadata": {}
        }
      ]
    },
    {
      "cell_type": "markdown",
      "source": [
        " Breast Tumors is benign(B) (not cancer) or malignant (M)(cancer)"
      ],
      "metadata": {
        "id": "RAj9DD_Q2k9Z"
      }
    },
    {
      "cell_type": "markdown",
      "source": [
        " # Create an XGBoost model"
      ],
      "metadata": {
        "id": "9Fex0IwP0meS"
      }
    },
    {
      "cell_type": "markdown",
      "source": [
        "Now, you can prepare your data for model building. You will use the diagnosis column as your target variable so you must remove it from the set of predictors. You must also remove the id variable."
      ],
      "metadata": {
        "id": "Raon64hE4kwA"
      }
    },
    {
      "cell_type": "code",
      "source": [
        "y=df['diagnosis']"
      ],
      "metadata": {
        "id": "iNvd93We3Z7P"
      },
      "execution_count": null,
      "outputs": []
    },
    {
      "cell_type": "code",
      "source": [
        "df.drop('diagnosis',axis=1,inplace=True)"
      ],
      "metadata": {
        "id": "qkhYspTT3wnV"
      },
      "execution_count": null,
      "outputs": []
    },
    {
      "cell_type": "code",
      "source": [
        "df.shape"
      ],
      "metadata": {
        "colab": {
          "base_uri": "https://localhost:8080/"
        },
        "id": "eZZ_2rye4LPG",
        "outputId": "b9f04b1d-92ac-4c5a-c9ba-08b3055b57e4"
      },
      "execution_count": null,
      "outputs": [
        {
          "output_type": "execute_result",
          "data": {
            "text/plain": [
              "(569, 31)"
            ]
          },
          "metadata": {},
          "execution_count": 11
        }
      ]
    },
    {
      "cell_type": "code",
      "source": [
        "X=df.iloc[:,1:].values"
      ],
      "metadata": {
        "id": "yI9jpl114AW7"
      },
      "execution_count": null,
      "outputs": []
    },
    {
      "cell_type": "code",
      "source": [
        "len(X[0])\n"
      ],
      "metadata": {
        "colab": {
          "base_uri": "https://localhost:8080/"
        },
        "id": "8nx2aOdF4BgR",
        "outputId": "d68bee9f-0aa7-431b-f0cb-40c6b94b3bb6"
      },
      "execution_count": null,
      "outputs": [
        {
          "output_type": "execute_result",
          "data": {
            "text/plain": [
              "30"
            ]
          },
          "metadata": {},
          "execution_count": 13
        }
      ]
    },
    {
      "cell_type": "code",
      "source": [
        "#Encoding categorical data values\n",
        "from sklearn.preprocessing import LabelEncoder\n",
        "labelencoder_Y = LabelEncoder()\n",
        "y = labelencoder_Y.fit_transform(y)\n"
      ],
      "metadata": {
        "id": "elmoFARR5NOc"
      },
      "execution_count": null,
      "outputs": []
    },
    {
      "cell_type": "markdown",
      "source": [
        "#Split the data set into:\n",
        "\n",
        "Train data set\n",
        "\n",
        "Test data set"
      ],
      "metadata": {
        "id": "8TLqE0-b4fTZ"
      }
    },
    {
      "cell_type": "code",
      "source": [
        "# Split the data set and create two data sets.\n",
        "# from sklearn.cross_validation import train_test_split\n",
        "\n",
        "from sklearn.model_selection import train_test_split\n",
        "\n",
        "X_train, X_test, y_train, y_test = train_test_split(X, y, test_size=0.25, random_state=143)"
      ],
      "metadata": {
        "id": "zU5tOtMo4QMb"
      },
      "execution_count": null,
      "outputs": []
    },
    {
      "cell_type": "code",
      "source": [
        "# List the number of records in each data set.\n",
        "print(\"Number of training records: \" + str(X_train.shape[0]))\n",
        "print(\"Number of testing records : \" + str(X_test.shape[0]))"
      ],
      "metadata": {
        "colab": {
          "base_uri": "https://localhost:8080/"
        },
        "id": "jAYMA-js4upr",
        "outputId": "9f7688e6-1ba9-4faf-c66f-66df09858eab"
      },
      "execution_count": null,
      "outputs": [
        {
          "output_type": "stream",
          "name": "stdout",
          "text": [
            "Number of training records: 426\n",
            "Number of testing records : 143\n"
          ]
        }
      ]
    },
    {
      "cell_type": "markdown",
      "source": [
        "The data has been successfully split into two data sets:\n",
        "\n",
        "The train data set, which is the largest group, will be used for training\n",
        "The test data set will be used for model evaluation and is used to test the assumptions of the model"
      ],
      "metadata": {
        "id": "yt5lABbV43Uk"
      }
    },
    {
      "cell_type": "code",
      "source": [
        "# Import the libraries you need to create the XGBoost model.\n",
        "from xgboost.sklearn import XGBClassifier\n",
        "import warnings\n",
        "\n",
        "from sklearn.model_selection import GridSearchCV\n",
        "from sklearn.metrics import accuracy_score"
      ],
      "metadata": {
        "id": "w8wHtvpM4xQr"
      },
      "execution_count": null,
      "outputs": []
    },
    {
      "cell_type": "code",
      "source": [
        "warnings.filterwarnings(\"ignore\", message=\"`use_label_encoder` is deprecated in 1.7.0.\")\n",
        "\n",
        "# Create the XGB classifier, xgb_model.\n",
        "xgb_model = XGBClassifier(use_label_encoder=False, n_jobs=1)"
      ],
      "metadata": {
        "id": "loWQ-imQ45IE"
      },
      "execution_count": null,
      "outputs": []
    },
    {
      "cell_type": "code",
      "source": [
        "# List the default parameters.\n",
        "print(xgb_model.get_xgb_params())"
      ],
      "metadata": {
        "colab": {
          "base_uri": "https://localhost:8080/"
        },
        "id": "_7l_vB4Y49co",
        "outputId": "f1df979e-a9f5-4d5e-96ab-fe33ef188943"
      },
      "execution_count": null,
      "outputs": [
        {
          "output_type": "stream",
          "name": "stdout",
          "text": [
            "{'objective': 'binary:logistic', 'base_score': None, 'booster': None, 'colsample_bylevel': None, 'colsample_bynode': None, 'colsample_bytree': None, 'eval_metric': None, 'gamma': None, 'gpu_id': None, 'grow_policy': None, 'interaction_constraints': None, 'learning_rate': None, 'max_bin': None, 'max_cat_threshold': None, 'max_cat_to_onehot': None, 'max_delta_step': None, 'max_depth': None, 'max_leaves': None, 'min_child_weight': None, 'monotone_constraints': None, 'n_jobs': 1, 'num_parallel_tree': None, 'predictor': None, 'random_state': None, 'reg_alpha': None, 'reg_lambda': None, 'sampling_method': None, 'scale_pos_weight': None, 'subsample': None, 'tree_method': None, 'validate_parameters': None, 'verbosity': None}\n"
          ]
        }
      ]
    },
    {
      "cell_type": "code",
      "source": [
        "# Train and evaluate.\n",
        "xgb_model.fit(X_train, y_train, eval_metric=['error'], eval_set=[((X_train, y_train)),(X_test, y_test)])"
      ],
      "metadata": {
        "colab": {
          "base_uri": "https://localhost:8080/",
          "height": 1000
        },
        "id": "FzbxfmQo5APl",
        "outputId": "9b96f149-6f49-44cc-c606-8c2bc8a017b3"
      },
      "execution_count": null,
      "outputs": [
        {
          "output_type": "stream",
          "name": "stdout",
          "text": [
            "[0]\tvalidation_0-error:0.02113\tvalidation_1-error:0.05594\n",
            "[1]\tvalidation_0-error:0.02113\tvalidation_1-error:0.05594\n",
            "[2]\tvalidation_0-error:0.00939\tvalidation_1-error:0.04895\n",
            "[3]\tvalidation_0-error:0.00939\tvalidation_1-error:0.04196\n",
            "[4]\tvalidation_0-error:0.00704\tvalidation_1-error:0.04196\n",
            "[5]\tvalidation_0-error:0.00704\tvalidation_1-error:0.02797\n",
            "[6]\tvalidation_0-error:0.00469\tvalidation_1-error:0.02797\n",
            "[7]\tvalidation_0-error:0.00704\tvalidation_1-error:0.02797\n",
            "[8]\tvalidation_0-error:0.00235\tvalidation_1-error:0.02797\n",
            "[9]\tvalidation_0-error:0.00235\tvalidation_1-error:0.02797\n",
            "[10]\tvalidation_0-error:0.00235\tvalidation_1-error:0.02797\n",
            "[11]\tvalidation_0-error:0.00235\tvalidation_1-error:0.02797\n",
            "[12]\tvalidation_0-error:0.00235\tvalidation_1-error:0.02098\n",
            "[13]\tvalidation_0-error:0.00235\tvalidation_1-error:0.02797\n",
            "[14]\tvalidation_0-error:0.00235\tvalidation_1-error:0.02797\n",
            "[15]\tvalidation_0-error:0.00235\tvalidation_1-error:0.02797\n",
            "[16]\tvalidation_0-error:0.00235\tvalidation_1-error:0.03497\n",
            "[17]\tvalidation_0-error:0.00235\tvalidation_1-error:0.02098\n",
            "[18]\tvalidation_0-error:0.00235\tvalidation_1-error:0.02098\n",
            "[19]\tvalidation_0-error:0.00235\tvalidation_1-error:0.02098\n",
            "[20]\tvalidation_0-error:0.00000\tvalidation_1-error:0.02098\n",
            "[21]\tvalidation_0-error:0.00000\tvalidation_1-error:0.02797\n",
            "[22]\tvalidation_0-error:0.00000\tvalidation_1-error:0.02098\n",
            "[23]\tvalidation_0-error:0.00000\tvalidation_1-error:0.02098\n",
            "[24]\tvalidation_0-error:0.00000\tvalidation_1-error:0.02098\n",
            "[25]\tvalidation_0-error:0.00000\tvalidation_1-error:0.02098\n",
            "[26]\tvalidation_0-error:0.00000\tvalidation_1-error:0.02098\n",
            "[27]\tvalidation_0-error:0.00000\tvalidation_1-error:0.02797\n",
            "[28]\tvalidation_0-error:0.00000\tvalidation_1-error:0.02098\n",
            "[29]\tvalidation_0-error:0.00000\tvalidation_1-error:0.02098\n",
            "[30]\tvalidation_0-error:0.00000\tvalidation_1-error:0.02797\n",
            "[31]\tvalidation_0-error:0.00000\tvalidation_1-error:0.02098\n",
            "[32]\tvalidation_0-error:0.00000\tvalidation_1-error:0.02098\n",
            "[33]\tvalidation_0-error:0.00000\tvalidation_1-error:0.02797\n",
            "[34]\tvalidation_0-error:0.00000\tvalidation_1-error:0.03497\n",
            "[35]\tvalidation_0-error:0.00000\tvalidation_1-error:0.02797\n",
            "[36]\tvalidation_0-error:0.00000\tvalidation_1-error:0.03497\n",
            "[37]\tvalidation_0-error:0.00000\tvalidation_1-error:0.03497\n",
            "[38]\tvalidation_0-error:0.00000\tvalidation_1-error:0.03497\n",
            "[39]\tvalidation_0-error:0.00000\tvalidation_1-error:0.02797\n",
            "[40]\tvalidation_0-error:0.00000\tvalidation_1-error:0.02797\n",
            "[41]\tvalidation_0-error:0.00000\tvalidation_1-error:0.02797\n",
            "[42]\tvalidation_0-error:0.00000\tvalidation_1-error:0.03497\n",
            "[43]\tvalidation_0-error:0.00000\tvalidation_1-error:0.02797\n",
            "[44]\tvalidation_0-error:0.00000\tvalidation_1-error:0.03497\n",
            "[45]\tvalidation_0-error:0.00000\tvalidation_1-error:0.03497\n",
            "[46]\tvalidation_0-error:0.00000\tvalidation_1-error:0.03497\n",
            "[47]\tvalidation_0-error:0.00000\tvalidation_1-error:0.03497\n",
            "[48]\tvalidation_0-error:0.00000\tvalidation_1-error:0.03497\n",
            "[49]\tvalidation_0-error:0.00000\tvalidation_1-error:0.03497\n",
            "[50]\tvalidation_0-error:0.00000\tvalidation_1-error:0.03497\n",
            "[51]\tvalidation_0-error:0.00000\tvalidation_1-error:0.03497\n",
            "[52]\tvalidation_0-error:0.00000\tvalidation_1-error:0.03497\n",
            "[53]\tvalidation_0-error:0.00000\tvalidation_1-error:0.03497\n",
            "[54]\tvalidation_0-error:0.00000\tvalidation_1-error:0.03497\n",
            "[55]\tvalidation_0-error:0.00000\tvalidation_1-error:0.03497\n",
            "[56]\tvalidation_0-error:0.00000\tvalidation_1-error:0.03497\n",
            "[57]\tvalidation_0-error:0.00000\tvalidation_1-error:0.03497\n",
            "[58]\tvalidation_0-error:0.00000\tvalidation_1-error:0.03497\n",
            "[59]\tvalidation_0-error:0.00000\tvalidation_1-error:0.03497\n",
            "[60]\tvalidation_0-error:0.00000\tvalidation_1-error:0.03497\n",
            "[61]\tvalidation_0-error:0.00000\tvalidation_1-error:0.03497\n",
            "[62]\tvalidation_0-error:0.00000\tvalidation_1-error:0.03497\n",
            "[63]\tvalidation_0-error:0.00000\tvalidation_1-error:0.03497\n",
            "[64]\tvalidation_0-error:0.00000\tvalidation_1-error:0.03497\n",
            "[65]\tvalidation_0-error:0.00000\tvalidation_1-error:0.03497\n",
            "[66]\tvalidation_0-error:0.00000\tvalidation_1-error:0.03497\n",
            "[67]\tvalidation_0-error:0.00000\tvalidation_1-error:0.03497\n",
            "[68]\tvalidation_0-error:0.00000\tvalidation_1-error:0.03497\n",
            "[69]\tvalidation_0-error:0.00000\tvalidation_1-error:0.03497\n",
            "[70]\tvalidation_0-error:0.00000\tvalidation_1-error:0.03497\n",
            "[71]\tvalidation_0-error:0.00000\tvalidation_1-error:0.02797\n",
            "[72]\tvalidation_0-error:0.00000\tvalidation_1-error:0.03497\n",
            "[73]\tvalidation_0-error:0.00000\tvalidation_1-error:0.03497\n",
            "[74]\tvalidation_0-error:0.00000\tvalidation_1-error:0.03497\n",
            "[75]\tvalidation_0-error:0.00000\tvalidation_1-error:0.03497\n",
            "[76]\tvalidation_0-error:0.00000\tvalidation_1-error:0.03497\n",
            "[77]\tvalidation_0-error:0.00000\tvalidation_1-error:0.03497\n",
            "[78]\tvalidation_0-error:0.00000\tvalidation_1-error:0.03497\n",
            "[79]\tvalidation_0-error:0.00000\tvalidation_1-error:0.03497\n",
            "[80]\tvalidation_0-error:0.00000\tvalidation_1-error:0.03497\n",
            "[81]\tvalidation_0-error:0.00000\tvalidation_1-error:0.03497\n",
            "[82]\tvalidation_0-error:0.00000\tvalidation_1-error:0.03497\n",
            "[83]\tvalidation_0-error:0.00000\tvalidation_1-error:0.03497\n",
            "[84]\tvalidation_0-error:0.00000\tvalidation_1-error:0.03497\n",
            "[85]\tvalidation_0-error:0.00000\tvalidation_1-error:0.03497\n",
            "[86]\tvalidation_0-error:0.00000\tvalidation_1-error:0.03497\n",
            "[87]\tvalidation_0-error:0.00000\tvalidation_1-error:0.03497\n",
            "[88]\tvalidation_0-error:0.00000\tvalidation_1-error:0.03497\n",
            "[89]\tvalidation_0-error:0.00000\tvalidation_1-error:0.03497\n",
            "[90]\tvalidation_0-error:0.00000\tvalidation_1-error:0.03497\n",
            "[91]\tvalidation_0-error:0.00000\tvalidation_1-error:0.03497\n",
            "[92]\tvalidation_0-error:0.00000\tvalidation_1-error:0.03497\n",
            "[93]\tvalidation_0-error:0.00000\tvalidation_1-error:0.03497\n",
            "[94]\tvalidation_0-error:0.00000\tvalidation_1-error:0.03497\n",
            "[95]\tvalidation_0-error:0.00000\tvalidation_1-error:0.03497\n",
            "[96]\tvalidation_0-error:0.00000\tvalidation_1-error:0.03497\n",
            "[97]\tvalidation_0-error:0.00000\tvalidation_1-error:0.03497\n",
            "[98]\tvalidation_0-error:0.00000\tvalidation_1-error:0.03497\n",
            "[99]\tvalidation_0-error:0.00000\tvalidation_1-error:0.03497\n"
          ]
        },
        {
          "output_type": "execute_result",
          "data": {
            "text/plain": [
              "XGBClassifier(base_score=None, booster=None, callbacks=None,\n",
              "              colsample_bylevel=None, colsample_bynode=None,\n",
              "              colsample_bytree=None, early_stopping_rounds=None,\n",
              "              enable_categorical=False, eval_metric=None, feature_types=None,\n",
              "              gamma=None, gpu_id=None, grow_policy=None, importance_type=None,\n",
              "              interaction_constraints=None, learning_rate=None, max_bin=None,\n",
              "              max_cat_threshold=None, max_cat_to_onehot=None,\n",
              "              max_delta_step=None, max_depth=None, max_leaves=None,\n",
              "              min_child_weight=None, missing=nan, monotone_constraints=None,\n",
              "              n_estimators=100, n_jobs=1, num_parallel_tree=None,\n",
              "              predictor=None, random_state=None, ...)"
            ],
            "text/html": [
              "<style>#sk-container-id-2 {color: black;background-color: white;}#sk-container-id-2 pre{padding: 0;}#sk-container-id-2 div.sk-toggleable {background-color: white;}#sk-container-id-2 label.sk-toggleable__label {cursor: pointer;display: block;width: 100%;margin-bottom: 0;padding: 0.3em;box-sizing: border-box;text-align: center;}#sk-container-id-2 label.sk-toggleable__label-arrow:before {content: \"▸\";float: left;margin-right: 0.25em;color: #696969;}#sk-container-id-2 label.sk-toggleable__label-arrow:hover:before {color: black;}#sk-container-id-2 div.sk-estimator:hover label.sk-toggleable__label-arrow:before {color: black;}#sk-container-id-2 div.sk-toggleable__content {max-height: 0;max-width: 0;overflow: hidden;text-align: left;background-color: #f0f8ff;}#sk-container-id-2 div.sk-toggleable__content pre {margin: 0.2em;color: black;border-radius: 0.25em;background-color: #f0f8ff;}#sk-container-id-2 input.sk-toggleable__control:checked~div.sk-toggleable__content {max-height: 200px;max-width: 100%;overflow: auto;}#sk-container-id-2 input.sk-toggleable__control:checked~label.sk-toggleable__label-arrow:before {content: \"▾\";}#sk-container-id-2 div.sk-estimator input.sk-toggleable__control:checked~label.sk-toggleable__label {background-color: #d4ebff;}#sk-container-id-2 div.sk-label input.sk-toggleable__control:checked~label.sk-toggleable__label {background-color: #d4ebff;}#sk-container-id-2 input.sk-hidden--visually {border: 0;clip: rect(1px 1px 1px 1px);clip: rect(1px, 1px, 1px, 1px);height: 1px;margin: -1px;overflow: hidden;padding: 0;position: absolute;width: 1px;}#sk-container-id-2 div.sk-estimator {font-family: monospace;background-color: #f0f8ff;border: 1px dotted black;border-radius: 0.25em;box-sizing: border-box;margin-bottom: 0.5em;}#sk-container-id-2 div.sk-estimator:hover {background-color: #d4ebff;}#sk-container-id-2 div.sk-parallel-item::after {content: \"\";width: 100%;border-bottom: 1px solid gray;flex-grow: 1;}#sk-container-id-2 div.sk-label:hover label.sk-toggleable__label {background-color: #d4ebff;}#sk-container-id-2 div.sk-serial::before {content: \"\";position: absolute;border-left: 1px solid gray;box-sizing: border-box;top: 0;bottom: 0;left: 50%;z-index: 0;}#sk-container-id-2 div.sk-serial {display: flex;flex-direction: column;align-items: center;background-color: white;padding-right: 0.2em;padding-left: 0.2em;position: relative;}#sk-container-id-2 div.sk-item {position: relative;z-index: 1;}#sk-container-id-2 div.sk-parallel {display: flex;align-items: stretch;justify-content: center;background-color: white;position: relative;}#sk-container-id-2 div.sk-item::before, #sk-container-id-2 div.sk-parallel-item::before {content: \"\";position: absolute;border-left: 1px solid gray;box-sizing: border-box;top: 0;bottom: 0;left: 50%;z-index: -1;}#sk-container-id-2 div.sk-parallel-item {display: flex;flex-direction: column;z-index: 1;position: relative;background-color: white;}#sk-container-id-2 div.sk-parallel-item:first-child::after {align-self: flex-end;width: 50%;}#sk-container-id-2 div.sk-parallel-item:last-child::after {align-self: flex-start;width: 50%;}#sk-container-id-2 div.sk-parallel-item:only-child::after {width: 0;}#sk-container-id-2 div.sk-dashed-wrapped {border: 1px dashed gray;margin: 0 0.4em 0.5em 0.4em;box-sizing: border-box;padding-bottom: 0.4em;background-color: white;}#sk-container-id-2 div.sk-label label {font-family: monospace;font-weight: bold;display: inline-block;line-height: 1.2em;}#sk-container-id-2 div.sk-label-container {text-align: center;}#sk-container-id-2 div.sk-container {/* jupyter's `normalize.less` sets `[hidden] { display: none; }` but bootstrap.min.css set `[hidden] { display: none !important; }` so we also need the `!important` here to be able to override the default hidden behavior on the sphinx rendered scikit-learn.org. See: https://github.com/scikit-learn/scikit-learn/issues/21755 */display: inline-block !important;position: relative;}#sk-container-id-2 div.sk-text-repr-fallback {display: none;}</style><div id=\"sk-container-id-2\" class=\"sk-top-container\"><div class=\"sk-text-repr-fallback\"><pre>XGBClassifier(base_score=None, booster=None, callbacks=None,\n",
              "              colsample_bylevel=None, colsample_bynode=None,\n",
              "              colsample_bytree=None, early_stopping_rounds=None,\n",
              "              enable_categorical=False, eval_metric=None, feature_types=None,\n",
              "              gamma=None, gpu_id=None, grow_policy=None, importance_type=None,\n",
              "              interaction_constraints=None, learning_rate=None, max_bin=None,\n",
              "              max_cat_threshold=None, max_cat_to_onehot=None,\n",
              "              max_delta_step=None, max_depth=None, max_leaves=None,\n",
              "              min_child_weight=None, missing=nan, monotone_constraints=None,\n",
              "              n_estimators=100, n_jobs=1, num_parallel_tree=None,\n",
              "              predictor=None, random_state=None, ...)</pre><b>In a Jupyter environment, please rerun this cell to show the HTML representation or trust the notebook. <br />On GitHub, the HTML representation is unable to render, please try loading this page with nbviewer.org.</b></div><div class=\"sk-container\" hidden><div class=\"sk-item\"><div class=\"sk-estimator sk-toggleable\"><input class=\"sk-toggleable__control sk-hidden--visually\" id=\"sk-estimator-id-2\" type=\"checkbox\" checked><label for=\"sk-estimator-id-2\" class=\"sk-toggleable__label sk-toggleable__label-arrow\">XGBClassifier</label><div class=\"sk-toggleable__content\"><pre>XGBClassifier(base_score=None, booster=None, callbacks=None,\n",
              "              colsample_bylevel=None, colsample_bynode=None,\n",
              "              colsample_bytree=None, early_stopping_rounds=None,\n",
              "              enable_categorical=False, eval_metric=None, feature_types=None,\n",
              "              gamma=None, gpu_id=None, grow_policy=None, importance_type=None,\n",
              "              interaction_constraints=None, learning_rate=None, max_bin=None,\n",
              "              max_cat_threshold=None, max_cat_to_onehot=None,\n",
              "              max_delta_step=None, max_depth=None, max_leaves=None,\n",
              "              min_child_weight=None, missing=nan, monotone_constraints=None,\n",
              "              n_estimators=100, n_jobs=1, num_parallel_tree=None,\n",
              "              predictor=None, random_state=None, ...)</pre></div></div></div></div></div>"
            ]
          },
          "metadata": {},
          "execution_count": 21
        }
      ]
    },
    {
      "cell_type": "code",
      "source": [
        "from matplotlib import pyplot\n",
        "\n",
        "%matplotlib inline\n",
        "\n"
      ],
      "metadata": {
        "id": "pbG86zMH5CfN"
      },
      "execution_count": null,
      "outputs": []
    },
    {
      "cell_type": "code",
      "source": [
        "# Plot and display the performance evaluation\n",
        "xgb_eval = xgb_model.evals_result()\n",
        "eval_steps = range(len(xgb_eval['validation_0']['error']))\n",
        "\n",
        "fig, ax = pyplot.subplots(1, 1, sharex=True, figsize=(8, 6))\n",
        "\n",
        "ax.plot(eval_steps, [1-x for x in xgb_eval['validation_0']['error']], label='Train')\n",
        "ax.plot(eval_steps, [1-x for x in xgb_eval['validation_1']['error']], label='Test')\n",
        "ax.legend()\n",
        "ax.set_title('Accuracy')\n",
        "ax.set_xlabel('Number of iterations');"
      ],
      "metadata": {
        "colab": {
          "base_uri": "https://localhost:8080/",
          "height": 564
        },
        "id": "0BpqVPN75Z70",
        "outputId": "ace088fb-8a19-472f-a3f7-4079c44a3b53"
      },
      "execution_count": null,
      "outputs": [
        {
          "output_type": "display_data",
          "data": {
            "text/plain": [
              "<Figure size 800x600 with 1 Axes>"
            ],
            "image/png": "[encoded data removed]"
          },
          "metadata": {}
        }
      ]
    },
    {
      "cell_type": "markdown",
      "source": [
        "You can see that there is model overfitting, and there is a decrease in model accuracy after about 60 iterations\n",
        "\n",
        "Select the trained model obtained after 30 iterations"
      ],
      "metadata": {
        "id": "nXazZB3h5ijR"
      }
    },
    {
      "cell_type": "code",
      "source": [
        "# Select trained model.\n",
        "n_trees = 30\n",
        "y_pred = xgb_model.predict(X_test, iteration_range=(0, n_trees))\n"
      ],
      "metadata": {
        "id": "qK00eyNf5c-6"
      },
      "execution_count": null,
      "outputs": []
    },
    {
      "cell_type": "code",
      "source": [
        "# Check the accuracy of the trained model.\n",
        "accuracy = accuracy_score(y_test, y_pred)\n",
        "\n",
        "print(\"Accuracy: %.1f%%\" % (accuracy * 100.0))"
      ],
      "metadata": {
        "colab": {
          "base_uri": "https://localhost:8080/"
        },
        "id": "DmuJWIOl5lNK",
        "outputId": "9a255dfe-6364-4acf-dd8e-5d45f752c9d6"
      },
      "execution_count": null,
      "outputs": [
        {
          "output_type": "stream",
          "name": "stdout",
          "text": [
            "Accuracy: 97.9%\n"
          ]
        }
      ]
    },
    {
      "cell_type": "code",
      "source": [
        "from sklearn.metrics import accuracy_score, confusion_matrix\n",
        "# Calculate the confusion matrix\n",
        "conf_matrix = confusion_matrix(y_test, y_pred)\n",
        "\n",
        "# Plot the confusion matrix using a heatmap\n",
        "plt.figure(figsize=(8, 6))\n",
        "sns.heatmap(conf_matrix, annot=True, fmt=\"d\", cmap=\"Blues\", cbar=False)\n",
        "plt.xlabel(\"Predicted Labels\")\n",
        "plt.ylabel(\"True Labels\")\n",
        "plt.title(\"Confusion Matrix\")\n",
        "plt.show()\n"
      ],
      "metadata": {
        "colab": {
          "base_uri": "https://localhost:8080/",
          "height": 564
        },
        "id": "LBFeAOJ65naI",
        "outputId": "dec2eadf-ab27-4741-b21a-c7cd5c3557db"
      },
      "execution_count": null,
      "outputs": [
        {
          "output_type": "display_data",
          "data": {
            "text/plain": [
              "<Figure size 800x600 with 1 Axes>"
            ],
            "image/png": "[encoded data removed]"
          },
          "metadata": {}
        }
      ]
    },
    {
      "cell_type": "code",
      "source": [],
      "metadata": {
        "id": "V8XjLybe6TLQ"
      },
      "execution_count": null,
      "outputs": []
    }
  ]
}