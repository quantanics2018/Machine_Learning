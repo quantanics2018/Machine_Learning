{
  "cells": [
    {
      "cell_type": "markdown",
      "metadata": {
        "id": "Bt-vmQPXc0RC"
      },
      "source": [
        "# Importing the libraries"
      ]
    },
    {
      "cell_type": "code",
      "execution_count": 1,
      "metadata": {
        "id": "alRYgdl8c0RJ"
      },
      "outputs": [],
      "source": [
        "import numpy as np\n",
        "import matplotlib.pyplot as plt\n",
        "import pandas as pd\n",
        "import seaborn as sns"
      ]
    },
    {
      "cell_type": "markdown",
      "metadata": {
        "id": "rY8o8RICc0RL"
      },
      "source": [
        "# Load Data"
      ]
    },
    {
      "cell_type": "code",
      "execution_count": 10,
      "metadata": {
        "id": "JbD_jVaMc0RM",
        "outputId": "7b98fcdf-ddfc-4caf-cc95-676409928102",
        "colab": {
          "base_uri": "https://localhost:8080/",
          "height": 718
        }
      },
      "outputs": [
        {
          "output_type": "execute_result",
          "data": {
            "text/plain": [
              "                             Email  \\\n",
              "0        mstephenson@fernandez.com   \n",
              "1                hduke@hotmail.com   \n",
              "2                 pallen@yahoo.com   \n",
              "3          riverarebecca@gmail.com   \n",
              "4    mstephens@davidson-herman.com   \n",
              "..                             ...   \n",
              "495   lewisjessica@craig-evans.com   \n",
              "496            katrina56@gmail.com   \n",
              "497             dale88@hotmail.com   \n",
              "498            cwilson@hotmail.com   \n",
              "499      hannahwilson@davidson.com   \n",
              "\n",
              "                                               Address            Avatar  \\\n",
              "0         835 Frank Tunnel\\nWrightmouth, MI 82180-9605            Violet   \n",
              "1       4547 Archer Common\\nDiazchester, CA 06566-8576         DarkGreen   \n",
              "2    24645 Valerie Unions Suite 582\\nCobbborough, D...            Bisque   \n",
              "3     1414 David Throughway\\nPort Jason, OH 22070-1220       SaddleBrown   \n",
              "4    14023 Rodriguez Passage\\nPort Jacobville, PR 3...  MediumAquaMarine   \n",
              "..                                                 ...               ...   \n",
              "495  4483 Jones Motorway Suite 872\\nLake Jamiefurt,...               Tan   \n",
              "496  172 Owen Divide Suite 497\\nWest Richard, CA 19320     PaleVioletRed   \n",
              "497  0787 Andrews Ranch Apt. 633\\nSouth Chadburgh, ...          Cornsilk   \n",
              "498  680 Jennifer Lodge Apt. 808\\nBrendachester, TX...              Teal   \n",
              "499  49791 Rachel Heights Apt. 898\\nEast Drewboroug...       DarkMagenta   \n",
              "\n",
              "     Avg. Session Length  Time on App  Time on Website  Length of Membership  \\\n",
              "0              34.497268    12.655651        39.577668              4.082621   \n",
              "1              31.926272    11.109461        37.268959              2.664034   \n",
              "2              33.000915    11.330278        37.110597              4.104543   \n",
              "3              34.305557    13.717514        36.721283              3.120179   \n",
              "4              33.330673    12.795189        37.536653              4.446308   \n",
              "..                   ...          ...              ...                   ...   \n",
              "495            33.237660    13.566160        36.417985              3.746573   \n",
              "496            34.702529    11.695736        37.190268              3.576526   \n",
              "497            32.646777    11.499409        38.332576              4.958264   \n",
              "498            33.322501    12.391423        36.840086              2.336485   \n",
              "499            33.715981    12.418808        35.771016              2.735160   \n",
              "\n",
              "     Yearly Amount Spent  \n",
              "0             587.951054  \n",
              "1             392.204933  \n",
              "2             487.547505  \n",
              "3             581.852344  \n",
              "4             599.406092  \n",
              "..                   ...  \n",
              "495           573.847438  \n",
              "496           529.049004  \n",
              "497           551.620145  \n",
              "498           456.469510  \n",
              "499           497.778642  \n",
              "\n",
              "[500 rows x 8 columns]"
            ],
            "text/html": [
              "\n",
              "  <div id=\"df-ade554ea-28e0-48b3-8842-1fd02efd4006\" class=\"colab-df-container\">\n",
              "    <div>\n",
              "<style scoped>\n",
              "    .dataframe tbody tr th:only-of-type {\n",
              "        vertical-align: middle;\n",
              "    }\n",
              "\n",
              "    .dataframe tbody tr th {\n",
              "        vertical-align: top;\n",
              "    }\n",
              "\n",
              "    .dataframe thead th {\n",
              "        text-align: right;\n",
              "    }\n",
              "</style>\n",
              "<table border=\"1\" class=\"dataframe\">\n",
              "  <thead>\n",
              "    <tr style=\"text-align: right;\">\n",
              "      <th></th>\n",
              "      <th>Email</th>\n",
              "      <th>Address</th>\n",
              "      <th>Avatar</th>\n",
              "      <th>Avg. Session Length</th>\n",
              "      <th>Time on App</th>\n",
              "      <th>Time on Website</th>\n",
              "      <th>Length of Membership</th>\n",
              "      <th>Yearly Amount Spent</th>\n",
              "    </tr>\n",
              "  </thead>\n",
              "  <tbody>\n",
              "    <tr>\n",
              "      <th>0</th>\n",
              "      <td>mstephenson@fernandez.com</td>\n",
              "      <td>835 Frank Tunnel\\nWrightmouth, MI 82180-9605</td>\n",
              "      <td>Violet</td>\n",
              "      <td>34.497268</td>\n",
              "      <td>12.655651</td>\n",
              "      <td>39.577668</td>\n",
              "      <td>4.082621</td>\n",
              "      <td>587.951054</td>\n",
              "    </tr>\n",
              "    <tr>\n",
              "      <th>1</th>\n",
              "      <td>hduke@hotmail.com</td>\n",
              "      <td>4547 Archer Common\\nDiazchester, CA 06566-8576</td>\n",
              "      <td>DarkGreen</td>\n",
              "      <td>31.926272</td>\n",
              "      <td>11.109461</td>\n",
              "      <td>37.268959</td>\n",
              "      <td>2.664034</td>\n",
              "      <td>392.204933</td>\n",
              "    </tr>\n",
              "    <tr>\n",
              "      <th>2</th>\n",
              "      <td>pallen@yahoo.com</td>\n",
              "      <td>24645 Valerie Unions Suite 582\\nCobbborough, D...</td>\n",
              "      <td>Bisque</td>\n",
              "      <td>33.000915</td>\n",
              "      <td>11.330278</td>\n",
              "      <td>37.110597</td>\n",
              "      <td>4.104543</td>\n",
              "      <td>487.547505</td>\n",
              "    </tr>\n",
              "    <tr>\n",
              "      <th>3</th>\n",
              "      <td>riverarebecca@gmail.com</td>\n",
              "      <td>1414 David Throughway\\nPort Jason, OH 22070-1220</td>\n",
              "      <td>SaddleBrown</td>\n",
              "      <td>34.305557</td>\n",
              "      <td>13.717514</td>\n",
              "      <td>36.721283</td>\n",
              "      <td>3.120179</td>\n",
              "      <td>581.852344</td>\n",
              "    </tr>\n",
              "    <tr>\n",
              "      <th>4</th>\n",
              "      <td>mstephens@davidson-herman.com</td>\n",
              "      <td>14023 Rodriguez Passage\\nPort Jacobville, PR 3...</td>\n",
              "      <td>MediumAquaMarine</td>\n",
              "      <td>33.330673</td>\n",
              "      <td>12.795189</td>\n",
              "      <td>37.536653</td>\n",
              "      <td>4.446308</td>\n",
              "      <td>599.406092</td>\n",
              "    </tr>\n",
              "    <tr>\n",
              "      <th>...</th>\n",
              "      <td>...</td>\n",
              "      <td>...</td>\n",
              "      <td>...</td>\n",
              "      <td>...</td>\n",
              "      <td>...</td>\n",
              "      <td>...</td>\n",
              "      <td>...</td>\n",
              "      <td>...</td>\n",
              "    </tr>\n",
              "    <tr>\n",
              "      <th>495</th>\n",
              "      <td>lewisjessica@craig-evans.com</td>\n",
              "      <td>4483 Jones Motorway Suite 872\\nLake Jamiefurt,...</td>\n",
              "      <td>Tan</td>\n",
              "      <td>33.237660</td>\n",
              "      <td>13.566160</td>\n",
              "      <td>36.417985</td>\n",
              "      <td>3.746573</td>\n",
              "      <td>573.847438</td>\n",
              "    </tr>\n",
              "    <tr>\n",
              "      <th>496</th>\n",
              "      <td>katrina56@gmail.com</td>\n",
              "      <td>172 Owen Divide Suite 497\\nWest Richard, CA 19320</td>\n",
              "      <td>PaleVioletRed</td>\n",
              "      <td>34.702529</td>\n",
              "      <td>11.695736</td>\n",
              "      <td>37.190268</td>\n",
              "      <td>3.576526</td>\n",
              "      <td>529.049004</td>\n",
              "    </tr>\n",
              "    <tr>\n",
              "      <th>497</th>\n",
              "      <td>dale88@hotmail.com</td>\n",
              "      <td>0787 Andrews Ranch Apt. 633\\nSouth Chadburgh, ...</td>\n",
              "      <td>Cornsilk</td>\n",
              "      <td>32.646777</td>\n",
              "      <td>11.499409</td>\n",
              "      <td>38.332576</td>\n",
              "      <td>4.958264</td>\n",
              "      <td>551.620145</td>\n",
              "    </tr>\n",
              "    <tr>\n",
              "      <th>498</th>\n",
              "      <td>cwilson@hotmail.com</td>\n",
              "      <td>680 Jennifer Lodge Apt. 808\\nBrendachester, TX...</td>\n",
              "      <td>Teal</td>\n",
              "      <td>33.322501</td>\n",
              "      <td>12.391423</td>\n",
              "      <td>36.840086</td>\n",
              "      <td>2.336485</td>\n",
              "      <td>456.469510</td>\n",
              "    </tr>\n",
              "    <tr>\n",
              "      <th>499</th>\n",
              "      <td>hannahwilson@davidson.com</td>\n",
              "      <td>49791 Rachel Heights Apt. 898\\nEast Drewboroug...</td>\n",
              "      <td>DarkMagenta</td>\n",
              "      <td>33.715981</td>\n",
              "      <td>12.418808</td>\n",
              "      <td>35.771016</td>\n",
              "      <td>2.735160</td>\n",
              "      <td>497.778642</td>\n",
              "    </tr>\n",
              "  </tbody>\n",
              "</table>\n",
              "<p>500 rows × 8 columns</p>\n",
              "</div>\n",
              "    <div class=\"colab-df-buttons\">\n",
              "\n",
              "  <div class=\"colab-df-container\">\n",
              "    <button class=\"colab-df-convert\" onclick=\"convertToInteractive('df-ade554ea-28e0-48b3-8842-1fd02efd4006')\"\n",
              "            title=\"Convert this dataframe to an interactive table.\"\n",
              "            style=\"display:none;\">\n",
              "\n",
              "  <svg xmlns=\"http://www.w3.org/2000/svg\" height=\"24px\" viewBox=\"0 -960 960 960\">\n",
              "    <path d=\"M120-120v-720h720v720H120Zm60-500h600v-160H180v160Zm220 220h160v-160H400v160Zm0 220h160v-160H400v160ZM180-400h160v-160H180v160Zm440 0h160v-160H620v160ZM180-180h160v-160H180v160Zm440 0h160v-160H620v160Z\"/>\n",
              "  </svg>\n",
              "    </button>\n",
              "\n",
              "  <style>\n",
              "    .colab-df-container {\n",
              "      display:flex;\n",
              "      gap: 12px;\n",
              "    }\n",
              "\n",
              "    .colab-df-convert {\n",
              "      background-color: #E8F0FE;\n",
              "      border: none;\n",
              "      border-radius: 50%;\n",
              "      cursor: pointer;\n",
              "      display: none;\n",
              "      fill: #1967D2;\n",
              "      height: 32px;\n",
              "      padding: 0 0 0 0;\n",
              "      width: 32px;\n",
              "    }\n",
              "\n",
              "    .colab-df-convert:hover {\n",
              "      background-color: #E2EBFA;\n",
              "      box-shadow: 0px 1px 2px rgba(60, 64, 67, 0.3), 0px 1px 3px 1px rgba(60, 64, 67, 0.15);\n",
              "      fill: #174EA6;\n",
              "    }\n",
              "\n",
              "    .colab-df-buttons div {\n",
              "      margin-bottom: 4px;\n",
              "    }\n",
              "\n",
              "    [theme=dark] .colab-df-convert {\n",
              "      background-color: #3B4455;\n",
              "      fill: #D2E3FC;\n",
              "    }\n",
              "\n",
              "    [theme=dark] .colab-df-convert:hover {\n",
              "      background-color: #434B5C;\n",
              "      box-shadow: 0px 1px 3px 1px rgba(0, 0, 0, 0.15);\n",
              "      filter: drop-shadow(0px 1px 2px rgba(0, 0, 0, 0.3));\n",
              "      fill: #FFFFFF;\n",
              "    }\n",
              "  </style>\n",
              "\n",
              "    <script>\n",
              "      const buttonEl =\n",
              "        document.querySelector('#df-ade554ea-28e0-48b3-8842-1fd02efd4006 button.colab-df-convert');\n",
              "      buttonEl.style.display =\n",
              "        google.colab.kernel.accessAllowed ? 'block' : 'none';\n",
              "\n",
              "      async function convertToInteractive(key) {\n",
              "        const element = document.querySelector('#df-ade554ea-28e0-48b3-8842-1fd02efd4006');\n",
              "        const dataTable =\n",
              "          await google.colab.kernel.invokeFunction('convertToInteractive',\n",
              "                                                    [key], {});\n",
              "        if (!dataTable) return;\n",
              "\n",
              "        const docLinkHtml = 'Like what you see? Visit the ' +\n",
              "          '<a target=\"_blank\" href=https://colab.research.google.com/notebooks/data_table.ipynb>data table notebook</a>'\n",
              "          + ' to learn more about interactive tables.';\n",
              "        element.innerHTML = '';\n",
              "        dataTable['output_type'] = 'display_data';\n",
              "        await google.colab.output.renderOutput(dataTable, element);\n",
              "        const docLink = document.createElement('div');\n",
              "        docLink.innerHTML = docLinkHtml;\n",
              "        element.appendChild(docLink);\n",
              "      }\n",
              "    </script>\n",
              "  </div>\n",
              "\n",
              "\n",
              "<div id=\"df-7c08718b-3a53-40b3-beba-4043a04c7978\">\n",
              "  <button class=\"colab-df-quickchart\" onclick=\"quickchart('df-7c08718b-3a53-40b3-beba-4043a04c7978')\"\n",
              "            title=\"Suggest charts.\"\n",
              "            style=\"display:none;\">\n",
              "\n",
              "<svg xmlns=\"http://www.w3.org/2000/svg\" height=\"24px\"viewBox=\"0 0 24 24\"\n",
              "     width=\"24px\">\n",
              "    <g>\n",
              "        <path d=\"M19 3H5c-1.1 0-2 .9-2 2v14c0 1.1.9 2 2 2h14c1.1 0 2-.9 2-2V5c0-1.1-.9-2-2-2zM9 17H7v-7h2v7zm4 0h-2V7h2v10zm4 0h-2v-4h2v4z\"/>\n",
              "    </g>\n",
              "</svg>\n",
              "  </button>\n",
              "\n",
              "<style>\n",
              "  .colab-df-quickchart {\n",
              "    background-color: #E8F0FE;\n",
              "    border: none;\n",
              "    border-radius: 50%;\n",
              "    cursor: pointer;\n",
              "    display: none;\n",
              "    fill: #1967D2;\n",
              "    height: 32px;\n",
              "    padding: 0 0 0 0;\n",
              "    width: 32px;\n",
              "  }\n",
              "\n",
              "  .colab-df-quickchart:hover {\n",
              "    background-color: #E2EBFA;\n",
              "    box-shadow: 0px 1px 2px rgba(60, 64, 67, 0.3), 0px 1px 3px 1px rgba(60, 64, 67, 0.15);\n",
              "    fill: #174EA6;\n",
              "  }\n",
              "\n",
              "  [theme=dark] .colab-df-quickchart {\n",
              "    background-color: #3B4455;\n",
              "    fill: #D2E3FC;\n",
              "  }\n",
              "\n",
              "  [theme=dark] .colab-df-quickchart:hover {\n",
              "    background-color: #434B5C;\n",
              "    box-shadow: 0px 1px 3px 1px rgba(0, 0, 0, 0.15);\n",
              "    filter: drop-shadow(0px 1px 2px rgba(0, 0, 0, 0.3));\n",
              "    fill: #FFFFFF;\n",
              "  }\n",
              "</style>\n",
              "\n",
              "  <script>\n",
              "    async function quickchart(key) {\n",
              "      const charts = await google.colab.kernel.invokeFunction(\n",
              "          'suggestCharts', [key], {});\n",
              "    }\n",
              "    (() => {\n",
              "      let quickchartButtonEl =\n",
              "        document.querySelector('#df-7c08718b-3a53-40b3-beba-4043a04c7978 button');\n",
              "      quickchartButtonEl.style.display =\n",
              "        google.colab.kernel.accessAllowed ? 'block' : 'none';\n",
              "    })();\n",
              "  </script>\n",
              "</div>\n",
              "    </div>\n",
              "  </div>\n"
            ]
          },
          "metadata": {},
          "execution_count": 10
        }
      ],
      "source": [
        "dataset=pd.read_csv('Ecommerce Customers.csv')\n",
        "dataset"
      ]
    },
    {
      "cell_type": "code",
      "execution_count": 3,
      "metadata": {
        "id": "W7woIlBpc0RN",
        "outputId": "6ca9df0f-911b-4d57-f6df-4b1a83048fdd",
        "colab": {
          "base_uri": "https://localhost:8080/",
          "height": 300
        }
      },
      "outputs": [
        {
          "output_type": "execute_result",
          "data": {
            "text/plain": [
              "       Avg. Session Length  Time on App  Time on Website  \\\n",
              "count           500.000000   500.000000       500.000000   \n",
              "mean             33.053194    12.052488        37.060445   \n",
              "std               0.992563     0.994216         1.010489   \n",
              "min              29.532429     8.508152        33.913847   \n",
              "25%              32.341822    11.388153        36.349257   \n",
              "50%              33.082008    11.983231        37.069367   \n",
              "75%              33.711985    12.753850        37.716432   \n",
              "max              36.139662    15.126994        40.005182   \n",
              "\n",
              "       Length of Membership  Yearly Amount Spent  \n",
              "count            500.000000           500.000000  \n",
              "mean               3.533462           499.314038  \n",
              "std                0.999278            79.314782  \n",
              "min                0.269901           256.670582  \n",
              "25%                2.930450           445.038277  \n",
              "50%                3.533975           498.887875  \n",
              "75%                4.126502           549.313828  \n",
              "max                6.922689           765.518462  "
            ],
            "text/html": [
              "\n",
              "  <div id=\"df-3fb07f0d-1d7a-491b-82cf-57ce65c9916b\" class=\"colab-df-container\">\n",
              "    <div>\n",
              "<style scoped>\n",
              "    .dataframe tbody tr th:only-of-type {\n",
              "        vertical-align: middle;\n",
              "    }\n",
              "\n",
              "    .dataframe tbody tr th {\n",
              "        vertical-align: top;\n",
              "    }\n",
              "\n",
              "    .dataframe thead th {\n",
              "        text-align: right;\n",
              "    }\n",
              "</style>\n",
              "<table border=\"1\" class=\"dataframe\">\n",
              "  <thead>\n",
              "    <tr style=\"text-align: right;\">\n",
              "      <th></th>\n",
              "      <th>Avg. Session Length</th>\n",
              "      <th>Time on App</th>\n",
              "      <th>Time on Website</th>\n",
              "      <th>Length of Membership</th>\n",
              "      <th>Yearly Amount Spent</th>\n",
              "    </tr>\n",
              "  </thead>\n",
              "  <tbody>\n",
              "    <tr>\n",
              "      <th>count</th>\n",
              "      <td>500.000000</td>\n",
              "      <td>500.000000</td>\n",
              "      <td>500.000000</td>\n",
              "      <td>500.000000</td>\n",
              "      <td>500.000000</td>\n",
              "    </tr>\n",
              "    <tr>\n",
              "      <th>mean</th>\n",
              "      <td>33.053194</td>\n",
              "      <td>12.052488</td>\n",
              "      <td>37.060445</td>\n",
              "      <td>3.533462</td>\n",
              "      <td>499.314038</td>\n",
              "    </tr>\n",
              "    <tr>\n",
              "      <th>std</th>\n",
              "      <td>0.992563</td>\n",
              "      <td>0.994216</td>\n",
              "      <td>1.010489</td>\n",
              "      <td>0.999278</td>\n",
              "      <td>79.314782</td>\n",
              "    </tr>\n",
              "    <tr>\n",
              "      <th>min</th>\n",
              "      <td>29.532429</td>\n",
              "      <td>8.508152</td>\n",
              "      <td>33.913847</td>\n",
              "      <td>0.269901</td>\n",
              "      <td>256.670582</td>\n",
              "    </tr>\n",
              "    <tr>\n",
              "      <th>25%</th>\n",
              "      <td>32.341822</td>\n",
              "      <td>11.388153</td>\n",
              "      <td>36.349257</td>\n",
              "      <td>2.930450</td>\n",
              "      <td>445.038277</td>\n",
              "    </tr>\n",
              "    <tr>\n",
              "      <th>50%</th>\n",
              "      <td>33.082008</td>\n",
              "      <td>11.983231</td>\n",
              "      <td>37.069367</td>\n",
              "      <td>3.533975</td>\n",
              "      <td>498.887875</td>\n",
              "    </tr>\n",
              "    <tr>\n",
              "      <th>75%</th>\n",
              "      <td>33.711985</td>\n",
              "      <td>12.753850</td>\n",
              "      <td>37.716432</td>\n",
              "      <td>4.126502</td>\n",
              "      <td>549.313828</td>\n",
              "    </tr>\n",
              "    <tr>\n",
              "      <th>max</th>\n",
              "      <td>36.139662</td>\n",
              "      <td>15.126994</td>\n",
              "      <td>40.005182</td>\n",
              "      <td>6.922689</td>\n",
              "      <td>765.518462</td>\n",
              "    </tr>\n",
              "  </tbody>\n",
              "</table>\n",
              "</div>\n",
              "    <div class=\"colab-df-buttons\">\n",
              "\n",
              "  <div class=\"colab-df-container\">\n",
              "    <button class=\"colab-df-convert\" onclick=\"convertToInteractive('df-3fb07f0d-1d7a-491b-82cf-57ce65c9916b')\"\n",
              "            title=\"Convert this dataframe to an interactive table.\"\n",
              "            style=\"display:none;\">\n",
              "\n",
              "  <svg xmlns=\"http://www.w3.org/2000/svg\" height=\"24px\" viewBox=\"0 -960 960 960\">\n",
              "    <path d=\"M120-120v-720h720v720H120Zm60-500h600v-160H180v160Zm220 220h160v-160H400v160Zm0 220h160v-160H400v160ZM180-400h160v-160H180v160Zm440 0h160v-160H620v160ZM180-180h160v-160H180v160Zm440 0h160v-160H620v160Z\"/>\n",
              "  </svg>\n",
              "    </button>\n",
              "\n",
              "  <style>\n",
              "    .colab-df-container {\n",
              "      display:flex;\n",
              "      gap: 12px;\n",
              "    }\n",
              "\n",
              "    .colab-df-convert {\n",
              "      background-color: #E8F0FE;\n",
              "      border: none;\n",
              "      border-radius: 50%;\n",
              "      cursor: pointer;\n",
              "      display: none;\n",
              "      fill: #1967D2;\n",
              "      height: 32px;\n",
              "      padding: 0 0 0 0;\n",
              "      width: 32px;\n",
              "    }\n",
              "\n",
              "    .colab-df-convert:hover {\n",
              "      background-color: #E2EBFA;\n",
              "      box-shadow: 0px 1px 2px rgba(60, 64, 67, 0.3), 0px 1px 3px 1px rgba(60, 64, 67, 0.15);\n",
              "      fill: #174EA6;\n",
              "    }\n",
              "\n",
              "    .colab-df-buttons div {\n",
              "      margin-bottom: 4px;\n",
              "    }\n",
              "\n",
              "    [theme=dark] .colab-df-convert {\n",
              "      background-color: #3B4455;\n",
              "      fill: #D2E3FC;\n",
              "    }\n",
              "\n",
              "    [theme=dark] .colab-df-convert:hover {\n",
              "      background-color: #434B5C;\n",
              "      box-shadow: 0px 1px 3px 1px rgba(0, 0, 0, 0.15);\n",
              "      filter: drop-shadow(0px 1px 2px rgba(0, 0, 0, 0.3));\n",
              "      fill: #FFFFFF;\n",
              "    }\n",
              "  </style>\n",
              "\n",
              "    <script>\n",
              "      const buttonEl =\n",
              "        document.querySelector('#df-3fb07f0d-1d7a-491b-82cf-57ce65c9916b button.colab-df-convert');\n",
              "      buttonEl.style.display =\n",
              "        google.colab.kernel.accessAllowed ? 'block' : 'none';\n",
              "\n",
              "      async function convertToInteractive(key) {\n",
              "        const element = document.querySelector('#df-3fb07f0d-1d7a-491b-82cf-57ce65c9916b');\n",
              "        const dataTable =\n",
              "          await google.colab.kernel.invokeFunction('convertToInteractive',\n",
              "                                                    [key], {});\n",
              "        if (!dataTable) return;\n",
              "\n",
              "        const docLinkHtml = 'Like what you see? Visit the ' +\n",
              "          '<a target=\"_blank\" href=https://colab.research.google.com/notebooks/data_table.ipynb>data table notebook</a>'\n",
              "          + ' to learn more about interactive tables.';\n",
              "        element.innerHTML = '';\n",
              "        dataTable['output_type'] = 'display_data';\n",
              "        await google.colab.output.renderOutput(dataTable, element);\n",
              "        const docLink = document.createElement('div');\n",
              "        docLink.innerHTML = docLinkHtml;\n",
              "        element.appendChild(docLink);\n",
              "      }\n",
              "    </script>\n",
              "  </div>\n",
              "\n",
              "\n",
              "<div id=\"df-a4e1837a-5f90-4aa2-abd5-110d0f2d0edc\">\n",
              "  <button class=\"colab-df-quickchart\" onclick=\"quickchart('df-a4e1837a-5f90-4aa2-abd5-110d0f2d0edc')\"\n",
              "            title=\"Suggest charts.\"\n",
              "            style=\"display:none;\">\n",
              "\n",
              "<svg xmlns=\"http://www.w3.org/2000/svg\" height=\"24px\"viewBox=\"0 0 24 24\"\n",
              "     width=\"24px\">\n",
              "    <g>\n",
              "        <path d=\"M19 3H5c-1.1 0-2 .9-2 2v14c0 1.1.9 2 2 2h14c1.1 0 2-.9 2-2V5c0-1.1-.9-2-2-2zM9 17H7v-7h2v7zm4 0h-2V7h2v10zm4 0h-2v-4h2v4z\"/>\n",
              "    </g>\n",
              "</svg>\n",
              "  </button>\n",
              "\n",
              "<style>\n",
              "  .colab-df-quickchart {\n",
              "    background-color: #E8F0FE;\n",
              "    border: none;\n",
              "    border-radius: 50%;\n",
              "    cursor: pointer;\n",
              "    display: none;\n",
              "    fill: #1967D2;\n",
              "    height: 32px;\n",
              "    padding: 0 0 0 0;\n",
              "    width: 32px;\n",
              "  }\n",
              "\n",
              "  .colab-df-quickchart:hover {\n",
              "    background-color: #E2EBFA;\n",
              "    box-shadow: 0px 1px 2px rgba(60, 64, 67, 0.3), 0px 1px 3px 1px rgba(60, 64, 67, 0.15);\n",
              "    fill: #174EA6;\n",
              "  }\n",
              "\n",
              "  [theme=dark] .colab-df-quickchart {\n",
              "    background-color: #3B4455;\n",
              "    fill: #D2E3FC;\n",
              "  }\n",
              "\n",
              "  [theme=dark] .colab-df-quickchart:hover {\n",
              "    background-color: #434B5C;\n",
              "    box-shadow: 0px 1px 3px 1px rgba(0, 0, 0, 0.15);\n",
              "    filter: drop-shadow(0px 1px 2px rgba(0, 0, 0, 0.3));\n",
              "    fill: #FFFFFF;\n",
              "  }\n",
              "</style>\n",
              "\n",
              "  <script>\n",
              "    async function quickchart(key) {\n",
              "      const charts = await google.colab.kernel.invokeFunction(\n",
              "          'suggestCharts', [key], {});\n",
              "    }\n",
              "    (() => {\n",
              "      let quickchartButtonEl =\n",
              "        document.querySelector('#df-a4e1837a-5f90-4aa2-abd5-110d0f2d0edc button');\n",
              "      quickchartButtonEl.style.display =\n",
              "        google.colab.kernel.accessAllowed ? 'block' : 'none';\n",
              "    })();\n",
              "  </script>\n",
              "</div>\n",
              "    </div>\n",
              "  </div>\n"
            ]
          },
          "metadata": {},
          "execution_count": 3
        }
      ],
      "source": [
        "dataset.describe()"
      ]
    },
    {
      "cell_type": "code",
      "execution_count": 4,
      "metadata": {
        "id": "wHX6svbkc0RO",
        "outputId": "ca599d95-10b7-4796-9236-764e56a2ad85",
        "colab": {
          "base_uri": "https://localhost:8080/",
          "height": 449
        }
      },
      "outputs": [
        {
          "output_type": "display_data",
          "data": {
            "text/plain": [
              "<Figure size 640x480 with 1 Axes>"
            ],
            "image/png": "[encoded data removed]"
          },
          "metadata": {}
        }
      ],
      "source": [
        "sns.regplot(x=\"Yearly Amount Spent\", y=\"Length of Membership\", data=dataset);"
      ]
    },
    {
      "cell_type": "code",
      "execution_count": 5,
      "metadata": {
        "id": "_EyhOwnrc0RQ"
      },
      "outputs": [],
      "source": [
        "x = dataset.iloc[:, 3:-1].values  # get all row data for 'Avg Session Length','Time on App','Time on Website' and 'Length of Membership'\n",
        "y = dataset.iloc[:, -1].values  # get the last column depentant variable data for all rows"
      ]
    },
    {
      "cell_type": "code",
      "source": [
        "features=len(x[1])"
      ],
      "metadata": {
        "id": "dcJSiACCg3tW"
      },
      "execution_count": 21,
      "outputs": []
    },
    {
      "cell_type": "code",
      "execution_count": 6,
      "metadata": {
        "id": "iHGud__Nc0RQ",
        "outputId": "b0c8e255-b388-403f-ccd5-2a23ebb6afad",
        "colab": {
          "base_uri": "https://localhost:8080/"
        }
      },
      "outputs": [
        {
          "output_type": "stream",
          "name": "stdout",
          "text": [
            "[[34.49726773 12.65565115 39.57766802  4.08262063]\n",
            " [31.92627203 11.10946073 37.26895887  2.66403418]\n",
            " [33.00091476 11.33027806 37.11059744  4.1045432 ]\n",
            " [34.30555663 13.71751367 36.72128268  3.12017878]\n",
            " [33.33067252 12.79518855 37.5366533   4.44630832]\n",
            " [33.87103788 12.02692534 34.47687763  5.4935072 ]\n",
            " [32.0215955  11.36634831 36.68377615  4.68501725]\n",
            " [32.73914294 12.35195897 37.37335886  4.43427343]\n",
            " [33.9877729  13.38623528 37.53449734  3.27343358]\n",
            " [31.93654862 11.81412829 37.14516822  3.20280607]]\n"
          ]
        }
      ],
      "source": [
        "print(x[:10,:])"
      ]
    },
    {
      "cell_type": "code",
      "execution_count": 7,
      "metadata": {
        "id": "x-Xot1uvc0RR",
        "outputId": "b89d7692-ff88-45cf-be4b-c78674fd6789",
        "colab": {
          "base_uri": "https://localhost:8080/"
        }
      },
      "outputs": [
        {
          "output_type": "stream",
          "name": "stdout",
          "text": [
            "[587.95105397 392.20493344 487.54750487 581.85234404 599.40609205\n",
            " 637.10244792 521.57217476 549.90414611 570.20040896 427.1993849 ]\n"
          ]
        }
      ],
      "source": [
        "print(y[:10])"
      ]
    },
    {
      "cell_type": "markdown",
      "metadata": {
        "id": "BExdTG-Oc0RS"
      },
      "source": [
        "# Data Preprocessing"
      ]
    },
    {
      "cell_type": "code",
      "execution_count": 8,
      "metadata": {
        "id": "btS6ZlgSc0RT"
      },
      "outputs": [],
      "source": [
        "from sklearn.impute import SimpleImputer\n",
        "imputer = SimpleImputer(missing_values=np.nan,strategy='mean')\n",
        "# fit method will look for missing values and calulate mean for 1st and 2nd columns\n",
        "imputer.fit(x[:,:])\n",
        "# transform method will replace missign value with calulated value in 1st(age) and 2nd(salary) columns\n",
        "x[:,:]=imputer.transform(x[:,:])"
      ]
    },
    {
      "cell_type": "code",
      "execution_count": 9,
      "metadata": {
        "id": "efM4ZOZ_c0RU",
        "outputId": "088a2941-420f-4cf7-e067-f9650021c332",
        "colab": {
          "base_uri": "https://localhost:8080/"
        }
      },
      "outputs": [
        {
          "output_type": "stream",
          "name": "stdout",
          "text": [
            "[[34.49726773 12.65565115 39.57766802  4.08262063]\n",
            " [31.92627203 11.10946073 37.26895887  2.66403418]\n",
            " [33.00091476 11.33027806 37.11059744  4.1045432 ]\n",
            " [34.30555663 13.71751367 36.72128268  3.12017878]\n",
            " [33.33067252 12.79518855 37.5366533   4.44630832]\n",
            " [33.87103788 12.02692534 34.47687763  5.4935072 ]\n",
            " [32.0215955  11.36634831 36.68377615  4.68501725]\n",
            " [32.73914294 12.35195897 37.37335886  4.43427343]\n",
            " [33.9877729  13.38623528 37.53449734  3.27343358]\n",
            " [31.93654862 11.81412829 37.14516822  3.20280607]]\n"
          ]
        }
      ],
      "source": [
        "print(x[:10,:])"
      ]
    },
    {
      "cell_type": "markdown",
      "metadata": {
        "id": "jtxKsF79c0RU"
      },
      "source": [
        "# Splitting the dataset into training and test set  "
      ]
    },
    {
      "cell_type": "code",
      "execution_count": 11,
      "metadata": {
        "id": "uBvLrPBSc0RV"
      },
      "outputs": [],
      "source": [
        "from sklearn.model_selection import train_test_split\n",
        "x_train,x_test,y_train,y_test = train_test_split(x,y,test_size=0.3,random_state = 0) # func returns train and test data. It takes dataset and then split size test_size =0.3 means 30% data is for test and rest for training and random_state\n"
      ]
    },
    {
      "cell_type": "code",
      "execution_count": 12,
      "metadata": {
        "id": "2wf0liEjc0RV",
        "outputId": "2be78a86-1669-43ed-c7c7-5afb78407030",
        "colab": {
          "base_uri": "https://localhost:8080/"
        }
      },
      "outputs": [
        {
          "output_type": "stream",
          "name": "stdout",
          "text": [
            "[[31.85125313 12.41896198 35.97765171  3.25174177]\n",
            " [34.18818406 13.13002166 35.42933439  3.79055214]\n",
            " [33.35839828 12.70368793 36.10091445  2.7241082 ]\n",
            " [32.0609144  12.62543264 35.53914243  5.41235784]\n",
            " [33.26833022 11.1133299  37.38794554  4.01872661]\n",
            " [31.53160448 13.37856278 38.73400629  2.24514779]\n",
            " [32.43075793 11.30623234 37.68040323  2.77952072]\n",
            " [32.91278511 11.36549203 37.60779252  4.59993736]\n",
            " [33.58737339  9.95399501 37.34573893  3.21566683]\n",
            " [32.38797585 13.14872569 36.61995708  2.49454365]]\n"
          ]
        }
      ],
      "source": [
        "print(x_train[:10,:])"
      ]
    },
    {
      "cell_type": "code",
      "execution_count": 13,
      "metadata": {
        "id": "eSe0AZENc0RW",
        "outputId": "d6188540-4b52-4ff9-a552-0b154988b69a",
        "colab": {
          "base_uri": "https://localhost:8080/"
        }
      },
      "outputs": [
        {
          "output_type": "stream",
          "name": "stdout",
          "text": [
            "[[32.4914466  12.53035737 37.8752191   2.47613905]\n",
            " [32.7111193  12.32629139 36.67387836  3.35027929]\n",
            " [33.07773079 11.46698422 35.67572763  1.80922959]\n",
            " [32.21292383 11.73299146 35.63395395  4.33186303]\n",
            " [32.77049216 11.37176736 35.26149812  4.03438613]\n",
            " [30.73772037 12.63660605 36.21376309  3.35784684]\n",
            " [33.56647439 12.23565925 37.27757338  2.53204406]\n",
            " [32.24635    11.30555143 37.13312676  1.70738973]\n",
            " [34.56868085 11.37808709 38.30447119  3.78493211]\n",
            " [31.94539575 12.96576148 36.9663889   6.07665364]]\n"
          ]
        }
      ],
      "source": [
        "print(x_test[:10,:])"
      ]
    },
    {
      "cell_type": "code",
      "execution_count": 14,
      "metadata": {
        "id": "tUAIBjrPc0RX",
        "outputId": "c472e218-2651-4c8f-8135-dd91f52de0f8",
        "colab": {
          "base_uri": "https://localhost:8080/"
        }
      },
      "outputs": [
        {
          "output_type": "stream",
          "name": "stdout",
          "text": [
            "[472.99224667 583.97780197 482.35357032 627.60331871 514.23952072\n",
            " 436.51560573 408.62018783 534.70574381 410.60294395 470.4527333 ]\n"
          ]
        }
      ],
      "source": [
        "print(y_train[:10])"
      ]
    },
    {
      "cell_type": "code",
      "execution_count": 15,
      "metadata": {
        "id": "EdNo4YiCc0RX",
        "outputId": "abed8220-da72-4831-8226-827ca6f70579",
        "colab": {
          "base_uri": "https://localhost:8080/"
        }
      },
      "outputs": [
        {
          "output_type": "stream",
          "name": "stdout",
          "text": [
            "[449.07031944 482.60246733 374.26967454 513.15311185 502.77107457\n",
            " 461.7807422  466.42119882 327.37795259 528.22380937 657.01992394]\n"
          ]
        }
      ],
      "source": [
        "print(y_test[:10])"
      ]
    },
    {
      "cell_type": "markdown",
      "metadata": {
        "id": "h69h76Plc0RY"
      },
      "source": [
        "# Build Model"
      ]
    },
    {
      "cell_type": "code",
      "execution_count": 16,
      "metadata": {
        "id": "guwlehBWc0RY",
        "outputId": "79bf387d-4efb-4cb8-bcb6-142473969aee",
        "colab": {
          "base_uri": "https://localhost:8080/",
          "height": 75
        }
      },
      "outputs": [
        {
          "output_type": "execute_result",
          "data": {
            "text/plain": [
              "LinearRegression()"
            ],
            "text/html": [
              "<style>#sk-container-id-1 {color: black;background-color: white;}#sk-container-id-1 pre{padding: 0;}#sk-container-id-1 div.sk-toggleable {background-color: white;}#sk-container-id-1 label.sk-toggleable__label {cursor: pointer;display: block;width: 100%;margin-bottom: 0;padding: 0.3em;box-sizing: border-box;text-align: center;}#sk-container-id-1 label.sk-toggleable__label-arrow:before {content: \"▸\";float: left;margin-right: 0.25em;color: #696969;}#sk-container-id-1 label.sk-toggleable__label-arrow:hover:before {color: black;}#sk-container-id-1 div.sk-estimator:hover label.sk-toggleable__label-arrow:before {color: black;}#sk-container-id-1 div.sk-toggleable__content {max-height: 0;max-width: 0;overflow: hidden;text-align: left;background-color: #f0f8ff;}#sk-container-id-1 div.sk-toggleable__content pre {margin: 0.2em;color: black;border-radius: 0.25em;background-color: #f0f8ff;}#sk-container-id-1 input.sk-toggleable__control:checked~div.sk-toggleable__content {max-height: 200px;max-width: 100%;overflow: auto;}#sk-container-id-1 input.sk-toggleable__control:checked~label.sk-toggleable__label-arrow:before {content: \"▾\";}#sk-container-id-1 div.sk-estimator input.sk-toggleable__control:checked~label.sk-toggleable__label {background-color: #d4ebff;}#sk-container-id-1 div.sk-label input.sk-toggleable__control:checked~label.sk-toggleable__label {background-color: #d4ebff;}#sk-container-id-1 input.sk-hidden--visually {border: 0;clip: rect(1px 1px 1px 1px);clip: rect(1px, 1px, 1px, 1px);height: 1px;margin: -1px;overflow: hidden;padding: 0;position: absolute;width: 1px;}#sk-container-id-1 div.sk-estimator {font-family: monospace;background-color: #f0f8ff;border: 1px dotted black;border-radius: 0.25em;box-sizing: border-box;margin-bottom: 0.5em;}#sk-container-id-1 div.sk-estimator:hover {background-color: #d4ebff;}#sk-container-id-1 div.sk-parallel-item::after {content: \"\";width: 100%;border-bottom: 1px solid gray;flex-grow: 1;}#sk-container-id-1 div.sk-label:hover label.sk-toggleable__label {background-color: #d4ebff;}#sk-container-id-1 div.sk-serial::before {content: \"\";position: absolute;border-left: 1px solid gray;box-sizing: border-box;top: 0;bottom: 0;left: 50%;z-index: 0;}#sk-container-id-1 div.sk-serial {display: flex;flex-direction: column;align-items: center;background-color: white;padding-right: 0.2em;padding-left: 0.2em;position: relative;}#sk-container-id-1 div.sk-item {position: relative;z-index: 1;}#sk-container-id-1 div.sk-parallel {display: flex;align-items: stretch;justify-content: center;background-color: white;position: relative;}#sk-container-id-1 div.sk-item::before, #sk-container-id-1 div.sk-parallel-item::before {content: \"\";position: absolute;border-left: 1px solid gray;box-sizing: border-box;top: 0;bottom: 0;left: 50%;z-index: -1;}#sk-container-id-1 div.sk-parallel-item {display: flex;flex-direction: column;z-index: 1;position: relative;background-color: white;}#sk-container-id-1 div.sk-parallel-item:first-child::after {align-self: flex-end;width: 50%;}#sk-container-id-1 div.sk-parallel-item:last-child::after {align-self: flex-start;width: 50%;}#sk-container-id-1 div.sk-parallel-item:only-child::after {width: 0;}#sk-container-id-1 div.sk-dashed-wrapped {border: 1px dashed gray;margin: 0 0.4em 0.5em 0.4em;box-sizing: border-box;padding-bottom: 0.4em;background-color: white;}#sk-container-id-1 div.sk-label label {font-family: monospace;font-weight: bold;display: inline-block;line-height: 1.2em;}#sk-container-id-1 div.sk-label-container {text-align: center;}#sk-container-id-1 div.sk-container {/* jupyter's `normalize.less` sets `[hidden] { display: none; }` but bootstrap.min.css set `[hidden] { display: none !important; }` so we also need the `!important` here to be able to override the default hidden behavior on the sphinx rendered scikit-learn.org. See: https://github.com/scikit-learn/scikit-learn/issues/21755 */display: inline-block !important;position: relative;}#sk-container-id-1 div.sk-text-repr-fallback {display: none;}</style><div id=\"sk-container-id-1\" class=\"sk-top-container\"><div class=\"sk-text-repr-fallback\"><pre>LinearRegression()</pre><b>In a Jupyter environment, please rerun this cell to show the HTML representation or trust the notebook. <br />On GitHub, the HTML representation is unable to render, please try loading this page with nbviewer.org.</b></div><div class=\"sk-container\" hidden><div class=\"sk-item\"><div class=\"sk-estimator sk-toggleable\"><input class=\"sk-toggleable__control sk-hidden--visually\" id=\"sk-estimator-id-1\" type=\"checkbox\" checked><label for=\"sk-estimator-id-1\" class=\"sk-toggleable__label sk-toggleable__label-arrow\">LinearRegression</label><div class=\"sk-toggleable__content\"><pre>LinearRegression()</pre></div></div></div></div></div>"
            ]
          },
          "metadata": {},
          "execution_count": 16
        }
      ],
      "source": [
        "from sklearn.linear_model import LinearRegression\n",
        "regressor = LinearRegression()\n",
        "regressor.fit(x_train,y_train)"
      ]
    },
    {
      "cell_type": "code",
      "execution_count": 17,
      "metadata": {
        "id": "6O1hOhewc0RZ"
      },
      "outputs": [],
      "source": [
        "#predicting the test set results\n",
        "y_pred = regressor.predict(x_test)"
      ]
    },
    {
      "cell_type": "markdown",
      "metadata": {
        "id": "QrtK9Ycyc0RZ"
      },
      "source": [
        "# Evaluate Model Using R_Square"
      ]
    },
    {
      "cell_type": "markdown",
      "source": [
        "The R-squared value is a measure of how well the predicted values match the actual values. It indicates the proportion of the variance in the dependent variable that is predictable from the independent variables."
      ],
      "metadata": {
        "id": "pnKOxNK0fpnS"
      }
    },
    {
      "cell_type": "code",
      "execution_count": 18,
      "metadata": {
        "id": "cvJsgWyhc0Ra",
        "outputId": "e98bbb2e-5535-426d-814d-805ce5a38971",
        "colab": {
          "base_uri": "https://localhost:8080/"
        }
      },
      "outputs": [
        {
          "output_type": "execute_result",
          "data": {
            "text/plain": [
              "0.9849262667370623"
            ]
          },
          "metadata": {},
          "execution_count": 18
        }
      ],
      "source": [
        "from sklearn.metrics import r2_score\n",
        "r2_score(y_test,y_pred)"
      ]
    },
    {
      "cell_type": "markdown",
      "source": [
        "Remember that the R-squared score ranges from 0 to 1, where a higher value indicates a better fit of the model to the data"
      ],
      "metadata": {
        "id": "NtKifDZAfuJw"
      }
    },
    {
      "cell_type": "markdown",
      "source": [
        "#Adjusted R SQUARE"
      ],
      "metadata": {
        "id": "v6tOuHtGhLb8"
      }
    },
    {
      "cell_type": "markdown",
      "source": [
        "The adjusted R-squared (or adjusted coefficient of determination) is a modified version of the regular R-squared that takes into account the number of predictors (features) in a regression model. It addresses a potential issue with R-squared by penalizing the inclusion of unnecessary predictors that might not significantly contribute to explaining the variance in the dependent variable."
      ],
      "metadata": {
        "id": "gfn0oGhFhPpp"
      }
    },
    {
      "cell_type": "code",
      "source": [
        "def adjusted_r2_score(y_true, y_pred, n, k):\n",
        "    r2 = r2_score(y_true, y_pred)\n",
        "    adjusted_r2 = 1 - (1 - r2) * (n - 1) / (n - k - 1)\n",
        "    return adjusted_r2\n",
        "\n",
        "# Assuming you have 'y_test' as true target values and 'y_pred' as predicted values\n",
        "n = len(y_test)  # Number of data points\n",
        "k = features  # Number of predictors (features)\n",
        "\n",
        "adjusted_r2 = adjusted_r2_score(y_test, y_pred, n, k)\n",
        "print(\"Adjusted R-squared:\", adjusted_r2)"
      ],
      "metadata": {
        "colab": {
          "base_uri": "https://localhost:8080/"
        },
        "id": "Iu7RJiGAgpm4",
        "outputId": "ee759007-ed4a-4576-e420-a5b60f9184a1"
      },
      "execution_count": 23,
      "outputs": [
        {
          "output_type": "stream",
          "name": "stdout",
          "text": [
            "Adjusted R-squared: 0.9845104396125675\n"
          ]
        }
      ]
    },
    {
      "cell_type": "markdown",
      "source": [
        "The intuition behind the adjusted R-squared is to strike a balance between model complexity and goodness of fit. It helps to mitigate the problem of overfitting by adjusting the R-squared value based on the number of predictors in the model."
      ],
      "metadata": {
        "id": "qY7zHADhhRBU"
      }
    },
    {
      "cell_type": "code",
      "source": [],
      "metadata": {
        "id": "QgtsN5xThCf9"
      },
      "execution_count": null,
      "outputs": []
    }
  ],
  "metadata": {
    "kernelspec": {
      "display_name": "Python 3",
      "language": "python",
      "name": "python3"
    },
    "language_info": {
      "codemirror_mode": {
        "name": "ipython",
        "version": 3
      },
      "file_extension": ".py",
      "mimetype": "text/x-python",
      "name": "python",
      "nbconvert_exporter": "python",
      "pygments_lexer": "ipython3",
      "version": "3.8.3"
    },
    "colab": {
      "provenance": []
    }
  },
  "nbformat": 4,
  "nbformat_minor": 0
}